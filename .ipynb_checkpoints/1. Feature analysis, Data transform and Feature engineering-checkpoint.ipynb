{
 "cells": [
  {
   "cell_type": "code",
   "execution_count": null,
   "id": "9e715e1e",
   "metadata": {},
   "outputs": [],
   "source": []
  },
  {
   "cell_type": "code",
   "execution_count": null,
   "id": "f8e41bdd",
   "metadata": {},
   "outputs": [],
   "source": [
    "import pandas as pd\n",
    "import matplotlib.pyplot as plt\n",
    "import re\n",
    "import time\n",
    "import warnings\n",
    "import numpy as np\n",
    "from nltk.corpus import stopwords\n",
    "from sklearn.decomposition import TruncatedSVD\n",
    "from sklearn.preprocessing import normalize\n",
    "from sklearn.feature_extraction.text import CountVectorizer\n",
    "from sklearn.manifold import TSNE\n",
    "import seaborn as sns\n",
    "from sklearn.neighbors import KNeighborsClassifier\n",
    "from sklearn.metrics import confusion_matrix\n",
    "from sklearn.metrics.classification import accuracy_score, log_loss\n",
    "from sklearn.feature_extraction.text import TfidfVectorizer\n",
    "from sklearn.linear_model import SGDClassifier\n",
    "from imblearn.over_sampling import SMOTE\n",
    "from collections import Counter\n",
    "from scipy.sparse import hstack\n",
    "from sklearn.multiclass import OneVsRestClassifier\n",
    "from sklearn.svm import SVC\n",
    "from sklearn.model_selection import StratifiedKFold \n",
    "from collections import Counter, defaultdict\n",
    "from sklearn.calibration import CalibratedClassifierCV\n",
    "from sklearn.naive_bayes import MultinomialNB\n",
    "from sklearn.naive_bayes import GaussianNB\n",
    "from sklearn.model_selection import train_test_split\n",
    "from sklearn.model_selection import GridSearchCV\n",
    "import math\n",
    "from sklearn.metrics import normalized_mutual_info_score\n",
    "from sklearn.ensemble import RandomForestClassifier\n",
    "warnings.filterwarnings(\"ignore\")\n",
    "\n",
    "from mlxtend.classifier import StackingClassifier\n",
    "\n",
    "from sklearn import model_selection\n",
    "from sklearn.linear_model import LogisticRegression\n"
   ]
  },
  {
   "cell_type": "code",
   "execution_count": null,
   "id": "9b935e90",
   "metadata": {
    "colab": {
     "base_uri": "https://localhost:8080/"
    },
    "id": "6_tz3SlAOQuv",
    "outputId": "9fa3b3bb-105d-4205-99cb-b8998cc0e991"
   },
   "outputs": [
    {
     "name": "stderr",
     "output_type": "stream",
     "text": [
      "/usr/local/lib/python3.7/dist-packages/sklearn/utils/deprecation.py:144: FutureWarning: The sklearn.metrics.classification module is  deprecated in version 0.22 and will be removed in version 0.24. The corresponding classes / functions should instead be imported from sklearn.metrics. Anything that cannot be imported from sklearn.metrics is now part of the private API.\n",
      "  warnings.warn(message, FutureWarning)\n",
      "/usr/local/lib/python3.7/dist-packages/sklearn/externals/six.py:31: FutureWarning: The module is deprecated in version 0.21 and will be removed in version 0.23 since we've dropped support for Python 2.7. Please rely on the official version of six (https://pypi.org/project/six/).\n",
      "  \"(https://pypi.org/project/six/).\", FutureWarning)\n",
      "/usr/local/lib/python3.7/dist-packages/sklearn/utils/deprecation.py:144: FutureWarning: The sklearn.neighbors.base module is  deprecated in version 0.22 and will be removed in version 0.24. The corresponding classes / functions should instead be imported from sklearn.neighbors. Anything that cannot be imported from sklearn.neighbors is now part of the private API.\n",
      "  warnings.warn(message, FutureWarning)\n"
     ]
    }
   ],
   "source": [
    "import pandas as pd\n",
    "import matplotlib.pyplot as plt\n",
    "import re\n",
    "import time\n",
    "import warnings\n",
    "import numpy as np\n",
    "from nltk.corpus import stopwords\n",
    "from sklearn.decomposition import TruncatedSVD\n",
    "from sklearn.preprocessing import normalize\n",
    "from sklearn.feature_extraction.text import CountVectorizer\n",
    "from sklearn.manifold import TSNE\n",
    "import seaborn as sns\n",
    "from sklearn.neighbors import KNeighborsClassifier\n",
    "from sklearn.metrics import confusion_matrix\n",
    "from sklearn.metrics.classification import accuracy_score, log_loss\n",
    "from sklearn.feature_extraction.text import TfidfVectorizer\n",
    "from sklearn.linear_model import SGDClassifier\n",
    "from imblearn.over_sampling import SMOTE\n",
    "from collections import Counter\n",
    "from scipy.sparse import hstack\n",
    "from sklearn.multiclass import OneVsRestClassifier\n",
    "from sklearn.svm import SVC\n",
    "from sklearn.model_selection import StratifiedKFold \n",
    "from collections import Counter, defaultdict\n",
    "from sklearn.calibration import CalibratedClassifierCV\n",
    "from sklearn.naive_bayes import MultinomialNB\n",
    "from sklearn.naive_bayes import GaussianNB\n",
    "from sklearn.model_selection import train_test_split\n",
    "from sklearn.model_selection import GridSearchCV\n",
    "import math\n",
    "from sklearn.metrics import normalized_mutual_info_score\n",
    "from sklearn.ensemble import RandomForestClassifier\n",
    "warnings.filterwarnings(\"ignore\")\n",
    "\n",
    "from mlxtend.classifier import StackingClassifier\n",
    "\n",
    "from sklearn import model_selection\n",
    "from sklearn.linear_model import LogisticRegression\n"
   ]
  },
  {
   "cell_type": "markdown",
   "id": "c97d6a30",
   "metadata": {
    "id": "M7AMKFKcOQu1"
   },
   "source": [
    "<h2>3.1. Reading Data</h2>"
   ]
  },
  {
   "cell_type": "markdown",
   "id": "cdaf14cf",
   "metadata": {
    "id": "aBdBb2H3OQu2"
   },
   "source": [
    "<h3>3.1.1. Reading Gene and Variation Data</h3>"
   ]
  },
  {
   "cell_type": "code",
   "execution_count": null,
   "id": "176e5e1f",
   "metadata": {
    "id": "4HtZTVjHHZff"
   },
   "outputs": [],
   "source": [
    "!pip install -q kaggle"
   ]
  },
  {
   "cell_type": "code",
   "execution_count": null,
   "id": "005fe8a4",
   "metadata": {
    "id": "x-rI1AbhF0T1"
   },
   "outputs": [],
   "source": [
    "!mkdir -p ~/.kaggle"
   ]
  },
  {
   "cell_type": "code",
   "execution_count": null,
   "id": "b497b552",
   "metadata": {
    "id": "Y8COgussF3C5"
   },
   "outputs": [],
   "source": [
    "!cp kaggle.json ~/.kaggle/"
   ]
  },
  {
   "cell_type": "code",
   "execution_count": null,
   "id": "bc7280c3",
   "metadata": {
    "colab": {
     "base_uri": "https://localhost:8080/"
    },
    "id": "j0bTAL9H728O",
    "outputId": "dd9e34bf-7579-4d8e-df1f-922db5de6d45"
   },
   "outputs": [
    {
     "name": "stdout",
     "output_type": "stream",
     "text": [
      "Warning: Your Kaggle API key is readable by other users on this system! To fix this, you can run 'chmod 600 /root/.kaggle/kaggle.json'\n"
     ]
    }
   ],
   "source": [
    "from kaggle.api.kaggle_api_extended import KaggleApi\n",
    "api = KaggleApi()\n",
    "api.authenticate()"
   ]
  },
  {
   "cell_type": "code",
   "execution_count": null,
   "id": "e7eab68d",
   "metadata": {
    "colab": {
     "base_uri": "https://localhost:8080/"
    },
    "id": "Cahf59NkPCXR",
    "outputId": "c30b71c5-1e3a-4b71-842c-9e1b0f5acf41"
   },
   "outputs": [
    {
     "name": "stdout",
     "output_type": "stream",
     "text": [
      "Warning: Your Kaggle API key is readable by other users on this system! To fix this, you can run 'chmod 600 /root/.kaggle/kaggle.json'\n",
      "Warning: Looks like you're using an outdated API Version, please consider updating (server 1.5.12 / client 1.5.4)\n",
      "Downloading stage2_test_variants.csv.7z to /content\n",
      "  0% 0.00/7.25k [00:00<?, ?B/s]\n",
      "100% 7.25k/7.25k [00:00<00:00, 7.78MB/s]\n",
      "Downloading stage1_solution_filtered.csv.7z to /content\n",
      "  0% 0.00/1.28k [00:00<?, ?B/s]\n",
      "100% 1.28k/1.28k [00:00<00:00, 1.21MB/s]\n",
      "Downloading stage2_test_text.csv.7z to /content\n",
      " 56% 5.00M/8.88M [00:00<00:00, 17.7MB/s]\n",
      "100% 8.88M/8.88M [00:00<00:00, 29.5MB/s]\n",
      "Downloading training_variants.zip to /content\n",
      "  0% 0.00/24.2k [00:00<?, ?B/s]\n",
      "100% 24.2k/24.2k [00:00<00:00, 15.7MB/s]\n",
      "Downloading stage2_sample_submission.csv.7z to /content\n",
      "  0% 0.00/765 [00:00<?, ?B/s]\n",
      "100% 765/765 [00:00<00:00, 617kB/s]\n",
      "Downloading test_text.zip to /content\n",
      " 96% 95.0M/99.0M [00:01<00:00, 46.3MB/s]\n",
      "100% 99.0M/99.0M [00:01<00:00, 75.7MB/s]\n",
      "Downloading test_variants.zip to /content\n",
      "  0% 0.00/47.5k [00:00<?, ?B/s]\n",
      "100% 47.5k/47.5k [00:00<00:00, 18.6MB/s]\n",
      "Downloading stage_2_private_solution.csv.7z to /content\n",
      "  0% 0.00/592 [00:00<?, ?B/s]\n",
      "100% 592/592 [00:00<00:00, 502kB/s]\n",
      "Downloading training_text.zip to /content\n",
      " 80% 49.0M/61.0M [00:02<00:00, 16.7MB/s]\n",
      "100% 61.0M/61.0M [00:02<00:00, 28.8MB/s]\n"
     ]
    }
   ],
   "source": [
    "!kaggle competitions download -c msk-redefining-cancer-treatment"
   ]
  },
  {
   "cell_type": "code",
   "execution_count": null,
   "id": "8baf8b60",
   "metadata": {
    "colab": {
     "base_uri": "https://localhost:8080/"
    },
    "id": "oTYfy0UrPyYm",
    "outputId": "67cdb014-57ab-41a0-e054-23c2ed5d4dd8"
   },
   "outputs": [
    {
     "name": "stdout",
     "output_type": "stream",
     "text": [
      "Archive:  training_variants.zip\n",
      "  inflating: training_variants       \n",
      "Archive:  training_text.zip\n",
      "  inflating: training_text           \n",
      "Archive:  test_text.zip\n",
      "  inflating: test_text               \n",
      "Archive:  test_variants.zip\n",
      "  inflating: test_variants           \n"
     ]
    }
   ],
   "source": [
    "!unzip training_variants.zip\n",
    "!unzip training_text.zip\n",
    "!unzip test_text.zip\n",
    "!unzip test_variants.zip"
   ]
  },
  {
   "cell_type": "code",
   "execution_count": null,
   "id": "452a1eb9",
   "metadata": {
    "colab": {
     "base_uri": "https://localhost:8080/",
     "height": 256
    },
    "id": "0Os-owW1OQu2",
    "outputId": "98aa86b1-5355-4f6d-d711-45919486adba"
   },
   "outputs": [
    {
     "name": "stdout",
     "output_type": "stream",
     "text": [
      "Number of data points :  3321\n",
      "Number of features :  4\n",
      "Features :  ['ID' 'Gene' 'Variation' 'Class']\n"
     ]
    },
    {
     "data": {
      "text/html": [
       "<div>\n",
       "<style scoped>\n",
       "    .dataframe tbody tr th:only-of-type {\n",
       "        vertical-align: middle;\n",
       "    }\n",
       "\n",
       "    .dataframe tbody tr th {\n",
       "        vertical-align: top;\n",
       "    }\n",
       "\n",
       "    .dataframe thead th {\n",
       "        text-align: right;\n",
       "    }\n",
       "</style>\n",
       "<table border=\"1\" class=\"dataframe\">\n",
       "  <thead>\n",
       "    <tr style=\"text-align: right;\">\n",
       "      <th></th>\n",
       "      <th>ID</th>\n",
       "      <th>Gene</th>\n",
       "      <th>Variation</th>\n",
       "      <th>Class</th>\n",
       "    </tr>\n",
       "  </thead>\n",
       "  <tbody>\n",
       "    <tr>\n",
       "      <th>0</th>\n",
       "      <td>0</td>\n",
       "      <td>FAM58A</td>\n",
       "      <td>Truncating Mutations</td>\n",
       "      <td>1</td>\n",
       "    </tr>\n",
       "    <tr>\n",
       "      <th>1</th>\n",
       "      <td>1</td>\n",
       "      <td>CBL</td>\n",
       "      <td>W802*</td>\n",
       "      <td>2</td>\n",
       "    </tr>\n",
       "    <tr>\n",
       "      <th>2</th>\n",
       "      <td>2</td>\n",
       "      <td>CBL</td>\n",
       "      <td>Q249E</td>\n",
       "      <td>2</td>\n",
       "    </tr>\n",
       "    <tr>\n",
       "      <th>3</th>\n",
       "      <td>3</td>\n",
       "      <td>CBL</td>\n",
       "      <td>N454D</td>\n",
       "      <td>3</td>\n",
       "    </tr>\n",
       "    <tr>\n",
       "      <th>4</th>\n",
       "      <td>4</td>\n",
       "      <td>CBL</td>\n",
       "      <td>L399V</td>\n",
       "      <td>4</td>\n",
       "    </tr>\n",
       "  </tbody>\n",
       "</table>\n",
       "</div>"
      ],
      "text/plain": [
       "   ID    Gene             Variation  Class\n",
       "0   0  FAM58A  Truncating Mutations      1\n",
       "1   1     CBL                 W802*      2\n",
       "2   2     CBL                 Q249E      2\n",
       "3   3     CBL                 N454D      3\n",
       "4   4     CBL                 L399V      4"
      ]
     },
     "execution_count": 15,
     "metadata": {
      "tags": []
     },
     "output_type": "execute_result"
    }
   ],
   "source": [
    "data = pd.read_csv('/content/training_variants')\n",
    "print('Number of data points : ', data.shape[0])\n",
    "print('Number of features : ', data.shape[1])\n",
    "print('Features : ', data.columns.values)\n",
    "data.head()"
   ]
  },
  {
   "cell_type": "markdown",
   "id": "560e34b1",
   "metadata": {
    "id": "6VYO0fvbOQu8"
   },
   "source": [
    "<p>\n",
    "    training/training_variants is a comma separated file containing the description of the genetic mutations used for training. <br>\n",
    "    Fields are \n",
    "    <ul>\n",
    "        <li><b>ID : </b>the id of the row used to link the mutation to the clinical evidence</li>\n",
    "        <li><b>Gene : </b>the gene where this genetic mutation is located </li>\n",
    "        <li><b>Variation : </b>the aminoacid change for this mutations </li>\n",
    "        <li><b>Class :</b> 1-9 the class this genetic mutation has been classified on</li>\n",
    "    </ul>"
   ]
  },
  {
   "cell_type": "markdown",
   "id": "8d2bd585",
   "metadata": {
    "id": "RPubFke6OQu9"
   },
   "source": [
    "<h3>3.1.2. Reading Text Data</h3>"
   ]
  },
  {
   "cell_type": "code",
   "execution_count": null,
   "id": "2ef9debd",
   "metadata": {
    "colab": {
     "base_uri": "https://localhost:8080/",
     "height": 256
    },
    "id": "1i30WJEyOQu9",
    "outputId": "361de60a-1097-4a0d-f96a-ef978bfdf5f8"
   },
   "outputs": [
    {
     "name": "stdout",
     "output_type": "stream",
     "text": [
      "Number of data points :  3321\n",
      "Number of features :  2\n",
      "Features :  ['ID' 'TEXT']\n"
     ]
    },
    {
     "data": {
      "text/html": [
       "<div>\n",
       "<style scoped>\n",
       "    .dataframe tbody tr th:only-of-type {\n",
       "        vertical-align: middle;\n",
       "    }\n",
       "\n",
       "    .dataframe tbody tr th {\n",
       "        vertical-align: top;\n",
       "    }\n",
       "\n",
       "    .dataframe thead th {\n",
       "        text-align: right;\n",
       "    }\n",
       "</style>\n",
       "<table border=\"1\" class=\"dataframe\">\n",
       "  <thead>\n",
       "    <tr style=\"text-align: right;\">\n",
       "      <th></th>\n",
       "      <th>ID</th>\n",
       "      <th>TEXT</th>\n",
       "    </tr>\n",
       "  </thead>\n",
       "  <tbody>\n",
       "    <tr>\n",
       "      <th>0</th>\n",
       "      <td>0</td>\n",
       "      <td>Cyclin-dependent kinases (CDKs) regulate a var...</td>\n",
       "    </tr>\n",
       "    <tr>\n",
       "      <th>1</th>\n",
       "      <td>1</td>\n",
       "      <td>Abstract Background  Non-small cell lung canc...</td>\n",
       "    </tr>\n",
       "    <tr>\n",
       "      <th>2</th>\n",
       "      <td>2</td>\n",
       "      <td>Abstract Background  Non-small cell lung canc...</td>\n",
       "    </tr>\n",
       "    <tr>\n",
       "      <th>3</th>\n",
       "      <td>3</td>\n",
       "      <td>Recent evidence has demonstrated that acquired...</td>\n",
       "    </tr>\n",
       "    <tr>\n",
       "      <th>4</th>\n",
       "      <td>4</td>\n",
       "      <td>Oncogenic mutations in the monomeric Casitas B...</td>\n",
       "    </tr>\n",
       "  </tbody>\n",
       "</table>\n",
       "</div>"
      ],
      "text/plain": [
       "   ID                                               TEXT\n",
       "0   0  Cyclin-dependent kinases (CDKs) regulate a var...\n",
       "1   1   Abstract Background  Non-small cell lung canc...\n",
       "2   2   Abstract Background  Non-small cell lung canc...\n",
       "3   3  Recent evidence has demonstrated that acquired...\n",
       "4   4  Oncogenic mutations in the monomeric Casitas B..."
      ]
     },
     "execution_count": 16,
     "metadata": {
      "tags": []
     },
     "output_type": "execute_result"
    }
   ],
   "source": [
    "# note the seprator in this file\n",
    "data_text =pd.read_csv(\"/content/training_text\",sep=\"\\|\\|\",engine=\"python\",names=[\"ID\",\"TEXT\"],skiprows=1)\n",
    "print('Number of data points : ', data_text.shape[0])\n",
    "print('Number of features : ', data_text.shape[1])\n",
    "print('Features : ', data_text.columns.values)\n",
    "data_text.head()"
   ]
  },
  {
   "cell_type": "markdown",
   "id": "2e5e4ee0",
   "metadata": {
    "id": "ZSy3O7VvOQvC"
   },
   "source": [
    "<h3>3.1.3. Preprocessing of text</h3>"
   ]
  },
  {
   "cell_type": "code",
   "execution_count": null,
   "id": "01da69c5",
   "metadata": {
    "colab": {
     "base_uri": "https://localhost:8080/"
    },
    "id": "hxj0F8-AUr-u",
    "outputId": "9ef59828-c683-4ffd-cbee-96c53d6cb6f3"
   },
   "outputs": [
    {
     "name": "stdout",
     "output_type": "stream",
     "text": [
      "[nltk_data] Downloading package stopwords to /root/nltk_data...\n",
      "[nltk_data]   Unzipping corpora/stopwords.zip.\n"
     ]
    },
    {
     "data": {
      "text/plain": [
       "True"
      ]
     },
     "execution_count": 17,
     "metadata": {
      "tags": []
     },
     "output_type": "execute_result"
    }
   ],
   "source": [
    " >>> import nltk\n",
    " >>> nltk.download('stopwords')"
   ]
  },
  {
   "cell_type": "code",
   "execution_count": null,
   "id": "8a724988",
   "metadata": {
    "id": "Y9RpP_0QOQvD"
   },
   "outputs": [],
   "source": [
    "# loading stop words from nltk library\n",
    "stop_words = set(stopwords.words('english'))\n",
    "\n",
    "\n",
    "def nlp_preprocessing(total_text, index, column):\n",
    "    if type(total_text) is not int:\n",
    "        string = \"\"\n",
    "        # replace every special char with space\n",
    "        total_text = re.sub('[^a-zA-Z0-9\\n]', ' ', total_text)\n",
    "        # replace multiple spaces with single space\n",
    "        total_text = re.sub('\\s+',' ', total_text)\n",
    "        # converting all the chars into lower-case.\n",
    "        total_text = total_text.lower()\n",
    "        \n",
    "        for word in total_text.split():\n",
    "        # if the word is a not a stop word then retain that word from the data\n",
    "            if not word in stop_words:\n",
    "                string += word + \" \"\n",
    "        \n",
    "        data_text[column][index] = string"
   ]
  },
  {
   "cell_type": "code",
   "execution_count": null,
   "id": "ed758625",
   "metadata": {
    "colab": {
     "base_uri": "https://localhost:8080/"
    },
    "id": "lkCyyQm6OQvH",
    "outputId": "29581388-cafd-4140-9e6b-148f56136186"
   },
   "outputs": [
    {
     "name": "stdout",
     "output_type": "stream",
     "text": [
      "there is no text description for id: 1109\n",
      "there is no text description for id: 1277\n",
      "there is no text description for id: 1407\n",
      "there is no text description for id: 1639\n",
      "there is no text description for id: 2755\n",
      "Time took for preprocessing the text : 27.557445 seconds\n"
     ]
    }
   ],
   "source": [
    "#text processing stage.\n",
    "start_time = time.clock()\n",
    "for index, row in data_text.iterrows():\n",
    "    if type(row['TEXT']) is str:\n",
    "        nlp_preprocessing(row['TEXT'], index, 'TEXT')\n",
    "    else:\n",
    "        print(\"there is no text description for id:\",index)\n",
    "print('Time took for preprocessing the text :',time.clock() - start_time, \"seconds\")"
   ]
  },
  {
   "cell_type": "code",
   "execution_count": null,
   "id": "817d7f31",
   "metadata": {
    "colab": {
     "base_uri": "https://localhost:8080/",
     "height": 204
    },
    "id": "qk8gHyNhOQvL",
    "outputId": "89848d06-0f1f-4cbf-b19b-9cd0caa0570b"
   },
   "outputs": [
    {
     "data": {
      "text/html": [
       "<div>\n",
       "<style scoped>\n",
       "    .dataframe tbody tr th:only-of-type {\n",
       "        vertical-align: middle;\n",
       "    }\n",
       "\n",
       "    .dataframe tbody tr th {\n",
       "        vertical-align: top;\n",
       "    }\n",
       "\n",
       "    .dataframe thead th {\n",
       "        text-align: right;\n",
       "    }\n",
       "</style>\n",
       "<table border=\"1\" class=\"dataframe\">\n",
       "  <thead>\n",
       "    <tr style=\"text-align: right;\">\n",
       "      <th></th>\n",
       "      <th>ID</th>\n",
       "      <th>Gene</th>\n",
       "      <th>Variation</th>\n",
       "      <th>Class</th>\n",
       "      <th>TEXT</th>\n",
       "    </tr>\n",
       "  </thead>\n",
       "  <tbody>\n",
       "    <tr>\n",
       "      <th>0</th>\n",
       "      <td>0</td>\n",
       "      <td>FAM58A</td>\n",
       "      <td>Truncating Mutations</td>\n",
       "      <td>1</td>\n",
       "      <td>cyclin dependent kinases cdks regulate variety...</td>\n",
       "    </tr>\n",
       "    <tr>\n",
       "      <th>1</th>\n",
       "      <td>1</td>\n",
       "      <td>CBL</td>\n",
       "      <td>W802*</td>\n",
       "      <td>2</td>\n",
       "      <td>abstract background non small cell lung cancer...</td>\n",
       "    </tr>\n",
       "    <tr>\n",
       "      <th>2</th>\n",
       "      <td>2</td>\n",
       "      <td>CBL</td>\n",
       "      <td>Q249E</td>\n",
       "      <td>2</td>\n",
       "      <td>abstract background non small cell lung cancer...</td>\n",
       "    </tr>\n",
       "    <tr>\n",
       "      <th>3</th>\n",
       "      <td>3</td>\n",
       "      <td>CBL</td>\n",
       "      <td>N454D</td>\n",
       "      <td>3</td>\n",
       "      <td>recent evidence demonstrated acquired uniparen...</td>\n",
       "    </tr>\n",
       "    <tr>\n",
       "      <th>4</th>\n",
       "      <td>4</td>\n",
       "      <td>CBL</td>\n",
       "      <td>L399V</td>\n",
       "      <td>4</td>\n",
       "      <td>oncogenic mutations monomeric casitas b lineag...</td>\n",
       "    </tr>\n",
       "  </tbody>\n",
       "</table>\n",
       "</div>"
      ],
      "text/plain": [
       "   ID    Gene  ... Class                                               TEXT\n",
       "0   0  FAM58A  ...     1  cyclin dependent kinases cdks regulate variety...\n",
       "1   1     CBL  ...     2  abstract background non small cell lung cancer...\n",
       "2   2     CBL  ...     2  abstract background non small cell lung cancer...\n",
       "3   3     CBL  ...     3  recent evidence demonstrated acquired uniparen...\n",
       "4   4     CBL  ...     4  oncogenic mutations monomeric casitas b lineag...\n",
       "\n",
       "[5 rows x 5 columns]"
      ]
     },
     "execution_count": 20,
     "metadata": {
      "tags": []
     },
     "output_type": "execute_result"
    }
   ],
   "source": [
    "#merging both gene_variations and text data based on ID\n",
    "result = pd.merge(data, data_text,on='ID', how='left')\n",
    "result.head()"
   ]
  },
  {
   "cell_type": "code",
   "execution_count": null,
   "id": "29a4a743",
   "metadata": {
    "colab": {
     "base_uri": "https://localhost:8080/",
     "height": 204
    },
    "id": "z4ITDIVDOQvQ",
    "outputId": "d032ccef-ce9b-4d3b-fd36-76b8f53e2a9f"
   },
   "outputs": [
    {
     "data": {
      "text/html": [
       "<div>\n",
       "<style scoped>\n",
       "    .dataframe tbody tr th:only-of-type {\n",
       "        vertical-align: middle;\n",
       "    }\n",
       "\n",
       "    .dataframe tbody tr th {\n",
       "        vertical-align: top;\n",
       "    }\n",
       "\n",
       "    .dataframe thead th {\n",
       "        text-align: right;\n",
       "    }\n",
       "</style>\n",
       "<table border=\"1\" class=\"dataframe\">\n",
       "  <thead>\n",
       "    <tr style=\"text-align: right;\">\n",
       "      <th></th>\n",
       "      <th>ID</th>\n",
       "      <th>Gene</th>\n",
       "      <th>Variation</th>\n",
       "      <th>Class</th>\n",
       "      <th>TEXT</th>\n",
       "    </tr>\n",
       "  </thead>\n",
       "  <tbody>\n",
       "    <tr>\n",
       "      <th>1109</th>\n",
       "      <td>1109</td>\n",
       "      <td>FANCA</td>\n",
       "      <td>S1088F</td>\n",
       "      <td>1</td>\n",
       "      <td>NaN</td>\n",
       "    </tr>\n",
       "    <tr>\n",
       "      <th>1277</th>\n",
       "      <td>1277</td>\n",
       "      <td>ARID5B</td>\n",
       "      <td>Truncating Mutations</td>\n",
       "      <td>1</td>\n",
       "      <td>NaN</td>\n",
       "    </tr>\n",
       "    <tr>\n",
       "      <th>1407</th>\n",
       "      <td>1407</td>\n",
       "      <td>FGFR3</td>\n",
       "      <td>K508M</td>\n",
       "      <td>6</td>\n",
       "      <td>NaN</td>\n",
       "    </tr>\n",
       "    <tr>\n",
       "      <th>1639</th>\n",
       "      <td>1639</td>\n",
       "      <td>FLT1</td>\n",
       "      <td>Amplification</td>\n",
       "      <td>6</td>\n",
       "      <td>NaN</td>\n",
       "    </tr>\n",
       "    <tr>\n",
       "      <th>2755</th>\n",
       "      <td>2755</td>\n",
       "      <td>BRAF</td>\n",
       "      <td>G596C</td>\n",
       "      <td>7</td>\n",
       "      <td>NaN</td>\n",
       "    </tr>\n",
       "  </tbody>\n",
       "</table>\n",
       "</div>"
      ],
      "text/plain": [
       "        ID    Gene             Variation  Class TEXT\n",
       "1109  1109   FANCA                S1088F      1  NaN\n",
       "1277  1277  ARID5B  Truncating Mutations      1  NaN\n",
       "1407  1407   FGFR3                 K508M      6  NaN\n",
       "1639  1639    FLT1         Amplification      6  NaN\n",
       "2755  2755    BRAF                 G596C      7  NaN"
      ]
     },
     "execution_count": 21,
     "metadata": {
      "tags": []
     },
     "output_type": "execute_result"
    }
   ],
   "source": [
    "result[result.isnull().any(axis=1)]"
   ]
  },
  {
   "cell_type": "code",
   "execution_count": null,
   "id": "98b48a93",
   "metadata": {
    "id": "co1v4XZ7OQvU"
   },
   "outputs": [],
   "source": [
    "result.loc[result['TEXT'].isnull(),'TEXT'] = result['Gene'] +' '+result['Variation']"
   ]
  },
  {
   "cell_type": "code",
   "execution_count": null,
   "id": "0dfae0f8",
   "metadata": {
    "colab": {
     "base_uri": "https://localhost:8080/",
     "height": 80
    },
    "id": "TEzTARDBOQvX",
    "outputId": "56927d38-e2de-4af4-afba-733e9f830dd6"
   },
   "outputs": [
    {
     "data": {
      "text/html": [
       "<div>\n",
       "<style scoped>\n",
       "    .dataframe tbody tr th:only-of-type {\n",
       "        vertical-align: middle;\n",
       "    }\n",
       "\n",
       "    .dataframe tbody tr th {\n",
       "        vertical-align: top;\n",
       "    }\n",
       "\n",
       "    .dataframe thead th {\n",
       "        text-align: right;\n",
       "    }\n",
       "</style>\n",
       "<table border=\"1\" class=\"dataframe\">\n",
       "  <thead>\n",
       "    <tr style=\"text-align: right;\">\n",
       "      <th></th>\n",
       "      <th>ID</th>\n",
       "      <th>Gene</th>\n",
       "      <th>Variation</th>\n",
       "      <th>Class</th>\n",
       "      <th>TEXT</th>\n",
       "    </tr>\n",
       "  </thead>\n",
       "  <tbody>\n",
       "    <tr>\n",
       "      <th>1109</th>\n",
       "      <td>1109</td>\n",
       "      <td>FANCA</td>\n",
       "      <td>S1088F</td>\n",
       "      <td>1</td>\n",
       "      <td>FANCA S1088F</td>\n",
       "    </tr>\n",
       "  </tbody>\n",
       "</table>\n",
       "</div>"
      ],
      "text/plain": [
       "        ID   Gene Variation  Class          TEXT\n",
       "1109  1109  FANCA    S1088F      1  FANCA S1088F"
      ]
     },
     "execution_count": 23,
     "metadata": {
      "tags": []
     },
     "output_type": "execute_result"
    }
   ],
   "source": [
    "result[result['ID']==1109]"
   ]
  },
  {
   "cell_type": "markdown",
   "id": "51b599ca",
   "metadata": {
    "id": "4ha0M1aOOQvg"
   },
   "source": [
    "<h3>3.1.4. Test, Train and Cross Validation Split</h3>"
   ]
  },
  {
   "cell_type": "markdown",
   "id": "8bc937f3",
   "metadata": {
    "id": "Mb_GBIh1OQvi"
   },
   "source": [
    "<h4>3.1.4.1. Splitting data into train, test and cross validation (64:20:16)</h4>"
   ]
  },
  {
   "cell_type": "code",
   "execution_count": null,
   "id": "5f790a7f",
   "metadata": {
    "id": "ijj-MmMwOQvk"
   },
   "outputs": [],
   "source": [
    "y_true = result['Class'].values\n",
    "result.Gene      = result.Gene.str.replace('\\s+', '_')\n",
    "result.Variation = result.Variation.str.replace('\\s+', '_')\n",
    "\n",
    "# split the data into test and train by maintaining same distribution of output varaible 'y_true' [stratify=y_true]\n",
    "X_train, test_df, y_train, y_test = train_test_split(result, y_true, stratify=y_true, test_size=0.2)\n",
    "# split the train data into train and cross validation by maintaining same distribution of output varaible 'y_train' [stratify=y_train]\n",
    "train_df, cv_df, y_train, y_cv = train_test_split(X_train, y_train, stratify=y_train, test_size=0.2)"
   ]
  },
  {
   "cell_type": "markdown",
   "id": "d47bb286",
   "metadata": {
    "id": "oWPLX4M9OQvo"
   },
   "source": [
    "<p> We split the data into train, test and cross validation data sets, preserving the ratio of class distribution in the original data set  </p>"
   ]
  },
  {
   "cell_type": "code",
   "execution_count": null,
   "id": "bacd851f",
   "metadata": {
    "colab": {
     "base_uri": "https://localhost:8080/"
    },
    "id": "wbzQMYZWOQvp",
    "outputId": "6974cb3b-c476-4600-9ec8-cd078208e5ce"
   },
   "outputs": [
    {
     "name": "stdout",
     "output_type": "stream",
     "text": [
      "Number of data points in train data: 2124\n",
      "Number of data points in test data: 665\n",
      "Number of data points in cross validation data: 532\n"
     ]
    }
   ],
   "source": [
    "print('Number of data points in train data:', train_df.shape[0])\n",
    "print('Number of data points in test data:', test_df.shape[0])\n",
    "print('Number of data points in cross validation data:', cv_df.shape[0])"
   ]
  },
  {
   "cell_type": "markdown",
   "id": "276a9665",
   "metadata": {
    "id": "NQeo-HuDOQvs"
   },
   "source": [
    "<h4>3.1.4.2. Distribution of y_i's in Train, Test and Cross Validation datasets</h4>"
   ]
  },
  {
   "cell_type": "code",
   "execution_count": null,
   "id": "1f497d8c",
   "metadata": {
    "colab": {
     "base_uri": "https://localhost:8080/",
     "height": 1000
    },
    "id": "KC3KErJmOQvt",
    "outputId": "b6adbfd0-5cfa-4d3c-ab64-37168ce66cd6"
   },
   "outputs": [
    {
     "data": {
      "image/png": "[encoded data removed]",
      "text/plain": [
       "<Figure size 432x288 with 1 Axes>"
      ]
     },
     "metadata": {
      "needs_background": "light",
      "tags": []
     },
     "output_type": "display_data"
    },
    {
     "name": "stdout",
     "output_type": "stream",
     "text": [
      "Number of data points in class 1 : 609 ( 28.672 %)\n",
      "Number of data points in class 2 : 439 ( 20.669 %)\n",
      "Number of data points in class 3 : 363 ( 17.09 %)\n",
      "Number of data points in class 4 : 289 ( 13.606 %)\n",
      "Number of data points in class 5 : 176 ( 8.286 %)\n",
      "Number of data points in class 6 : 155 ( 7.298 %)\n",
      "Number of data points in class 7 : 57 ( 2.684 %)\n",
      "Number of data points in class 8 : 24 ( 1.13 %)\n",
      "Number of data points in class 9 : 12 ( 0.565 %)\n",
      "--------------------------------------------------------------------------------\n"
     ]
    },
    {
     "data": {
      "image/png": "[encoded data removed]",
      "text/plain": [
       "<Figure size 432x288 with 1 Axes>"
      ]
     },
     "metadata": {
      "needs_background": "light",
      "tags": []
     },
     "output_type": "display_data"
    },
    {
     "name": "stdout",
     "output_type": "stream",
     "text": [
      "Number of data points in class 1 : 191 ( 28.722 %)\n",
      "Number of data points in class 2 : 137 ( 20.602 %)\n",
      "Number of data points in class 3 : 114 ( 17.143 %)\n",
      "Number of data points in class 4 : 91 ( 13.684 %)\n",
      "Number of data points in class 5 : 55 ( 8.271 %)\n",
      "Number of data points in class 6 : 48 ( 7.218 %)\n",
      "Number of data points in class 7 : 18 ( 2.707 %)\n",
      "Number of data points in class 8 : 7 ( 1.053 %)\n",
      "Number of data points in class 9 : 4 ( 0.602 %)\n",
      "--------------------------------------------------------------------------------\n"
     ]
    },
    {
     "data": {
      "image/png": "[encoded data removed]",
      "text/plain": [
       "<Figure size 432x288 with 1 Axes>"
      ]
     },
     "metadata": {
      "needs_background": "light",
      "tags": []
     },
     "output_type": "display_data"
    },
    {
     "name": "stdout",
     "output_type": "stream",
     "text": [
      "Number of data points in class 1 : 153 ( 28.759 %)\n",
      "Number of data points in class 2 : 110 ( 20.677 %)\n",
      "Number of data points in class 3 : 91 ( 17.105 %)\n",
      "Number of data points in class 4 : 72 ( 13.534 %)\n",
      "Number of data points in class 5 : 44 ( 8.271 %)\n",
      "Number of data points in class 6 : 39 ( 7.331 %)\n",
      "Number of data points in class 7 : 14 ( 2.632 %)\n",
      "Number of data points in class 8 : 6 ( 1.128 %)\n",
      "Number of data points in class 9 : 3 ( 0.564 %)\n"
     ]
    }
   ],
   "source": [
    "# it returns a dict, keys as class labels and values as the number of data points in that class\n",
    "train_class_distribution = train_df['Class'].value_counts()\n",
    "test_class_distribution = test_df['Class'].value_counts()\n",
    "cv_class_distribution = cv_df['Class'].value_counts()\n",
    "\n",
    "my_colors = 'rgbkymc'\n",
    "train_class_distribution.plot(kind='bar')\n",
    "plt.xlabel('Class')\n",
    "plt.ylabel('Data points per Class')\n",
    "plt.title('Distribution of yi in train data')\n",
    "plt.grid()\n",
    "plt.show()\n",
    "\n",
    "# ref: argsort https://docs.scipy.org/doc/numpy/reference/generated/numpy.argsort.html\n",
    "# -(train_class_distribution.values): the minus sign will give us in decreasing order\n",
    "sorted_yi = np.argsort(-train_class_distribution.values)\n",
    "for i in sorted_yi:\n",
    " \n",
    "    print('Number of data points in class', i+1, ':',train_class_distribution.values[i], '(', np.round((train_class_distribution.values[i]/train_df.shape[0]*100), 3), '%)')\n",
    "\n",
    "    \n",
    "print('-'*80)\n",
    "my_colors = 'rgbkymc'\n",
    "test_class_distribution.plot(kind='bar')\n",
    "plt.xlabel('Class')\n",
    "plt.ylabel('Data points per Class')\n",
    "plt.title('Distribution of yi in test data')\n",
    "plt.grid()\n",
    "plt.show()\n",
    "\n",
    "# ref: argsort https://docs.scipy.org/doc/numpy/reference/generated/numpy.argsort.html\n",
    "# -(train_class_distribution.values): the minus sign will give us in decreasing order\n",
    "sorted_yi = np.argsort(-test_class_distribution.values)\n",
    "for i in sorted_yi:\n",
    "    print('Number of data points in class', i+1, ':',test_class_distribution.values[i], '(', np.round((test_class_distribution.values[i]/test_df.shape[0]*100), 3), '%)')\n",
    "\n",
    "print('-'*80)\n",
    "my_colors = 'rgbkymc'\n",
    "cv_class_distribution.plot(kind='bar')\n",
    "plt.xlabel('Class')\n",
    "plt.ylabel('Data points per Class')\n",
    "plt.title('Distribution of yi in cross validation data')\n",
    "plt.grid()\n",
    "plt.show()\n",
    "\n",
    "# ref: argsort https://docs.scipy.org/doc/numpy/reference/generated/numpy.argsort.html\n",
    "# -(train_class_distribution.values): the minus sign will give us in decreasing order\n",
    "sorted_yi = np.argsort(-train_class_distribution.values)\n",
    "for i in sorted_yi:\n",
    "    print('Number of data points in class', i+1, ':',cv_class_distribution.values[i], '(', np.round((cv_class_distribution.values[i]/cv_df.shape[0]*100), 3), '%)')\n"
   ]
  },
  {
   "cell_type": "markdown",
   "id": "40da1d21",
   "metadata": {
    "id": "kSO9RztaOQvw"
   },
   "source": [
    "<h2>3.2 Prediction using a 'Random' Model</h2>"
   ]
  },
  {
   "cell_type": "markdown",
   "id": "c215a94a",
   "metadata": {
    "id": "B7eBGtKAOQvw"
   },
   "source": [
    "<p style=\"font-size:16px\"> In a 'Random' Model, we generate the NINE class probabilites randomly such that they sum to 1. </p>"
   ]
  },
  {
   "cell_type": "code",
   "execution_count": null,
   "id": "a4a81efc",
   "metadata": {
    "id": "9quvnOcWOQvx"
   },
   "outputs": [],
   "source": [
    "# This function plots the confusion matrices given y_i, y_i_hat.\n",
    "def plot_confusion_matrix(test_y, predict_y):\n",
    "    C = confusion_matrix(test_y, predict_y)\n",
    "    # C = 9,9 matrix, each cell (i,j) represents number of points of class i are predicted class j\n",
    "    \n",
    "    A =(((C.T)/(C.sum(axis=1))).T)\n",
    "    #divid each element of the confusion matrix with the sum of elements in that column\n",
    "    \n",
    "    # C = [[1, 2],\n",
    "    #     [3, 4]]\n",
    "    # C.T = [[1, 3],\n",
    "    #        [2, 4]]\n",
    "    # C.sum(axis = 1)  axis=0 corresonds to columns and axis=1 corresponds to rows in two diamensional array\n",
    "    # C.sum(axix =1) = [[3, 7]]\n",
    "    # ((C.T)/(C.sum(axis=1))) = [[1/3, 3/7]\n",
    "    #                           [2/3, 4/7]]\n",
    "\n",
    "    # ((C.T)/(C.sum(axis=1))).T = [[1/3, 2/3]\n",
    "    #                           [3/7, 4/7]]\n",
    "    # sum of row elements = 1\n",
    "    \n",
    "    B =(C/C.sum(axis=0))\n",
    "    #divid each element of the confusion matrix with the sum of elements in that row\n",
    "    # C = [[1, 2],\n",
    "    #     [3, 4]]\n",
    "    # C.sum(axis = 0)  axis=0 corresonds to columns and axis=1 corresponds to rows in two diamensional array\n",
    "    # C.sum(axix =0) = [[4, 6]]\n",
    "    # (C/C.sum(axis=0)) = [[1/4, 2/6],\n",
    "    #                      [3/4, 4/6]] \n",
    "    \n",
    "    labels = [1,2,3,4,5,6,7,8,9]\n",
    "    # representing A in heatmap format\n",
    "    print(\"-\"*20, \"Confusion matrix\", \"-\"*20)\n",
    "    plt.figure(figsize=(20,7))\n",
    "    sns.heatmap(C, annot=True, cmap=\"YlGnBu\", fmt=\".3f\", xticklabels=labels, yticklabels=labels)\n",
    "    plt.xlabel('Predicted Class')\n",
    "    plt.ylabel('Original Class')\n",
    "    plt.show()\n",
    "\n",
    "    print(\"-\"*20, \"Precision matrix (Columm Sum=1)\", \"-\"*20)\n",
    "    plt.figure(figsize=(20,7))\n",
    "    sns.heatmap(B, annot=True, cmap=\"YlGnBu\", fmt=\".3f\", xticklabels=labels, yticklabels=labels)\n",
    "    plt.xlabel('Predicted Class')\n",
    "    plt.ylabel('Original Class')\n",
    "    plt.show()\n",
    "    \n",
    "    # representing B in heatmap format\n",
    "    print(\"-\"*20, \"Recall matrix (Row sum=1)\", \"-\"*20)\n",
    "    plt.figure(figsize=(20,7))\n",
    "    sns.heatmap(A, annot=True, cmap=\"YlGnBu\", fmt=\".3f\", xticklabels=labels, yticklabels=labels)\n",
    "    plt.xlabel('Predicted Class')\n",
    "    plt.ylabel('Original Class')\n",
    "    plt.show()"
   ]
  },
  {
   "cell_type": "code",
   "execution_count": null,
   "id": "6448df0e",
   "metadata": {
    "colab": {
     "base_uri": "https://localhost:8080/",
     "height": 1000
    },
    "id": "VsR6cgBqOQvz",
    "outputId": "1a49723a-b041-4054-c748-a9f959faab45"
   },
   "outputs": [
    {
     "name": "stdout",
     "output_type": "stream",
     "text": [
      "Log loss on Cross Validation Data using Random Model 2.4466336954169168\n",
      "Log loss on Test Data using Random Model 2.5630127109790757\n",
      "-------------------- Confusion matrix --------------------\n"
     ]
    },
    {
     "data": {
      "image/png": "[encoded data removed]",
      "text/plain": [
       "<Figure size 1440x504 with 2 Axes>"
      ]
     },
     "metadata": {
      "needs_background": "light",
      "tags": []
     },
     "output_type": "display_data"
    },
    {
     "name": "stdout",
     "output_type": "stream",
     "text": [
      "-------------------- Precision matrix (Columm Sum=1) --------------------\n"
     ]
    },
    {
     "data": {
      "image/png": "[encoded data removed]",
      "text/plain": [
       "<Figure size 1440x504 with 2 Axes>"
      ]
     },
     "metadata": {
      "needs_background": "light",
      "tags": []
     },
     "output_type": "display_data"
    },
    {
     "name": "stdout",
     "output_type": "stream",
     "text": [
      "-------------------- Recall matrix (Row sum=1) --------------------\n"
     ]
    },
    {
     "data": {
      "image/png": "[encoded data removed]",
      "text/plain": [
       "<Figure size 1440x504 with 2 Axes>"
      ]
     },
     "metadata": {
      "needs_background": "light",
      "tags": []
     },
     "output_type": "display_data"
    }
   ],
   "source": [
    "# we need to generate 9 numbers and the sum of numbers should be 1\n",
    "# one solution is to genarate 9 numbers and divide each of the numbers by their sum\n",
    "# ref: https://stackoverflow.com/a/18662466/4084039\n",
    "test_data_len = test_df.shape[0]\n",
    "cv_data_len = cv_df.shape[0]\n",
    "\n",
    "# we create a output array that has exactly same size as the CV data\n",
    "cv_predicted_y = np.zeros((cv_data_len,9))\n",
    "for i in range(cv_data_len):\n",
    "    rand_probs = np.random.rand(1,9)\n",
    "    cv_predicted_y[i] = ((rand_probs/sum(sum(rand_probs)))[0])\n",
    "print(\"Log loss on Cross Validation Data using Random Model\",log_loss(y_cv,cv_predicted_y, eps=1e-15))\n",
    "\n",
    "\n",
    "# Test-Set error.\n",
    "#we create a output array that has exactly same as the test data\n",
    "test_predicted_y = np.zeros((test_data_len,9))\n",
    "for i in range(test_data_len):\n",
    "    rand_probs = np.random.rand(1,9)\n",
    "    test_predicted_y[i] = ((rand_probs/sum(sum(rand_probs)))[0])\n",
    "print(\"Log loss on Test Data using Random Model\",log_loss(y_test,test_predicted_y, eps=1e-15))\n",
    "\n",
    "predicted_y =np.argmax(test_predicted_y, axis=1)\n",
    "plot_confusion_matrix(y_test, predicted_y+1)"
   ]
  },
  {
   "cell_type": "code",
   "execution_count": null,
   "id": "c2c3656f",
   "metadata": {
    "colab": {
     "base_uri": "https://localhost:8080/"
    },
    "id": "bWbE-QKYIxG1",
    "outputId": "c0dc1f66-7d2e-4c14-9a9e-cfd87b2bc7b7"
   },
   "outputs": [
    {
     "data": {
      "text/plain": [
       "5.507240427560058"
      ]
     },
     "execution_count": 29,
     "metadata": {
      "tags": []
     },
     "output_type": "execute_result"
    }
   ],
   "source": [
    "\n",
    "sum(sum(np.random.rand(1,9)))"
   ]
  },
  {
   "cell_type": "markdown",
   "id": "aae3fae7",
   "metadata": {
    "id": "tIy5AKY7OQv2"
   },
   "source": [
    "<h2>3.3 Univariate Analysis</h2>"
   ]
  },
  {
   "cell_type": "code",
   "execution_count": null,
   "id": "134ea1cf",
   "metadata": {
    "id": "glsAAhozOQv3"
   },
   "outputs": [],
   "source": [
    "# code for response coding with Laplace smoothing.\n",
    "# alpha : used for laplace smoothing\n",
    "# feature: ['gene', 'variation']\n",
    "# df: ['train_df', 'test_df', 'cv_df']\n",
    "# algorithm\n",
    "# ----------\n",
    "# Consider all unique values and the number of occurrences of given feature in train data dataframe\n",
    "# build a vector (1*9) , the first element = (number of times it occured in class1 + 10*alpha / number of time it occurred in total data+90*alpha)\n",
    "# gv_dict is like a look up table, for every gene it store a (1*9) representation of it\n",
    "# for a value of feature in df:\n",
    "# if it is in train data:\n",
    "# we add the vector that was stored in 'gv_dict' look up table to 'gv_fea'\n",
    "# if it is not there is train:\n",
    "# we add [1/9, 1/9, 1/9, 1/9,1/9, 1/9, 1/9, 1/9, 1/9] to 'gv_fea'\n",
    "# return 'gv_fea'\n",
    "# ----------------------\n",
    "\n",
    "# get_gv_fea_dict: Get Gene varaition Feature Dict\n",
    "def get_gv_fea_dict(alpha, feature, df):\n",
    "    # value_count: it contains a dict like\n",
    "    # print(train_df['Gene'].value_counts())\n",
    "    # output:\n",
    "    #        {BRCA1      174\n",
    "    #         TP53       106\n",
    "    #         EGFR        86\n",
    "    #         BRCA2       75\n",
    "    #         PTEN        69\n",
    "    #         KIT         61\n",
    "    #         BRAF        60\n",
    "    #         ERBB2       47\n",
    "    #         PDGFRA      46\n",
    "    #         ...}\n",
    "    # print(train_df['Variation'].value_counts())\n",
    "    # output:\n",
    "    # {\n",
    "    # Truncating_Mutations                     63\n",
    "    # Deletion                                 43\n",
    "    # Amplification                            43\n",
    "    # Fusions                                  22\n",
    "    # Overexpression                            3\n",
    "    # E17K                                      3\n",
    "    # Q61L                                      3\n",
    "    # S222D                                     2\n",
    "    # P130S                                     2\n",
    "    # ...\n",
    "    # }\n",
    "    value_count = train_df[feature].value_counts()\n",
    "    \n",
    "    # gv_dict : Gene Variation Dict, which contains the probability array for each gene/variation\n",
    "    gv_dict = dict()\n",
    "    \n",
    "    # denominator will contain the number of time that particular feature occured in whole data\n",
    "    for i, denominator in value_count.items():\n",
    "        # vec will contain (p(yi==1/Gi) probability of gene/variation belongs to perticular class\n",
    "        # vec is 9 diamensional vector\n",
    "        vec = []\n",
    "        for k in range(1,10):\n",
    "            # print(train_df.loc[(train_df['Class']==1) & (train_df['Gene']=='BRCA1')])\n",
    "            #         ID   Gene             Variation  Class  \n",
    "            # 2470  2470  BRCA1                S1715C      1   \n",
    "            # 2486  2486  BRCA1                S1841R      1   \n",
    "            # 2614  2614  BRCA1                   M1R      1   \n",
    "            # 2432  2432  BRCA1                L1657P      1   \n",
    "            # 2567  2567  BRCA1                T1685A      1   \n",
    "            # 2583  2583  BRCA1                E1660G      1   \n",
    "            # 2634  2634  BRCA1                W1718L      1   \n",
    "            # cls_cnt.shape[0] will return the number of rows\n",
    "\n",
    "            cls_cnt = train_df.loc[(train_df['Class']==k) & (train_df[feature]==i)]\n",
    "            \n",
    "            # cls_cnt.shape[0](numerator) will contain the number of time that particular feature occured in whole data\n",
    "            vec.append((cls_cnt.shape[0] + alpha*10)/ (denominator + 90*alpha))\n",
    "\n",
    "        # we are adding the gene/variation to the dict as key and vec as value\n",
    "        gv_dict[i]=vec\n",
    "    return gv_dict\n",
    "\n",
    "# Get Gene variation feature\n",
    "def get_gv_feature(alpha, feature, df):\n",
    "    # print(gv_dict)\n",
    "    #     {'BRCA1': [0.20075757575757575, 0.03787878787878788, 0.068181818181818177, 0.13636363636363635, 0.25, 0.19318181818181818, 0.03787878787878788, 0.03787878787878788, 0.03787878787878788], \n",
    "    #      'TP53': [0.32142857142857145, 0.061224489795918366, 0.061224489795918366, 0.27040816326530615, 0.061224489795918366, 0.066326530612244902, 0.051020408163265307, 0.051020408163265307, 0.056122448979591837], \n",
    "    #      'EGFR': [0.056818181818181816, 0.21590909090909091, 0.0625, 0.068181818181818177, 0.068181818181818177, 0.0625, 0.34659090909090912, 0.0625, 0.056818181818181816], \n",
    "    #      'BRCA2': [0.13333333333333333, 0.060606060606060608, 0.060606060606060608, 0.078787878787878782, 0.1393939393939394, 0.34545454545454546, 0.060606060606060608, 0.060606060606060608, 0.060606060606060608], \n",
    "    #      'PTEN': [0.069182389937106917, 0.062893081761006289, 0.069182389937106917, 0.46540880503144655, 0.075471698113207544, 0.062893081761006289, 0.069182389937106917, 0.062893081761006289, 0.062893081761006289], \n",
    "    #      'KIT': [0.066225165562913912, 0.25165562913907286, 0.072847682119205295, 0.072847682119205295, 0.066225165562913912, 0.066225165562913912, 0.27152317880794702, 0.066225165562913912, 0.066225165562913912], \n",
    "    #      'BRAF': [0.066666666666666666, 0.17999999999999999, 0.073333333333333334, 0.073333333333333334, 0.093333333333333338, 0.080000000000000002, 0.29999999999999999, 0.066666666666666666, 0.066666666666666666],\n",
    "    #      ...\n",
    "    #     }\n",
    "    gv_dict = get_gv_fea_dict(alpha, feature, df)\n",
    "    # value_count is similar in get_gv_fea_dict\n",
    "    value_count = train_df[feature].value_counts()\n",
    "    \n",
    "    # gv_fea: Gene_variation feature, it will contain the feature for each feature prob dist value in the data\n",
    "    gv_fea = []\n",
    "    # for every feature values in the given data frame we will check if it is there in the train data then we will add the feature to gv_fea\n",
    "    # if not we will add [1/9,1/9,1/9,1/9,1/9,1/9,1/9,1/9,1/9] to gv_fea\n",
    "    for index, row in df.iterrows():\n",
    "        if row[feature] in dict(value_count).keys():\n",
    "            gv_fea.append(gv_dict[row[feature]])\n",
    "        else:\n",
    "            gv_fea.append([1/9,1/9,1/9,1/9,1/9,1/9,1/9,1/9,1/9])\n",
    "#             gv_fea.append([-1,-1,-1,-1,-1,-1,-1,-1,-1])\n",
    "    return gv_fea"
   ]
  },
  {
   "cell_type": "code",
   "execution_count": null,
   "id": "e0996043",
   "metadata": {
    "id": "pCzdWubCkQ6p"
   },
   "outputs": [],
   "source": []
  },
  {
   "cell_type": "markdown",
   "id": "e3dd86fb",
   "metadata": {
    "id": "ShBOxDTyOQv5"
   },
   "source": [
    "when we caculate the probability of a feature belongs to any particular class, we apply laplace smoothing\n",
    "<li>(numerator + 10\\*alpha) / (denominator + 90\\*alpha) </li>"
   ]
  },
  {
   "cell_type": "markdown",
   "id": "11c834d2",
   "metadata": {
    "id": "Burwv7NcOQv6"
   },
   "source": [
    "<h3>3.2.1 Univariate Analysis on Gene Feature</h3>"
   ]
  },
  {
   "cell_type": "markdown",
   "id": "479da9d8",
   "metadata": {
    "id": "xvrxgsHNOQv7"
   },
   "source": [
    "<p style=\"font-size:18px;\"> <b>Q1.</b> Gene, What type of feature it is ?</p>\n",
    "<p style=\"font-size:16px;\"><b>Ans.</b> Gene is a categorical variable </p>\n",
    "<p style=\"font-size:18px;\"> <b>Q2.</b> How many categories are there and How they are distributed?</p>"
   ]
  },
  {
   "cell_type": "code",
   "execution_count": null,
   "id": "88641f78",
   "metadata": {
    "colab": {
     "base_uri": "https://localhost:8080/"
    },
    "id": "r4VErpbnOQv8",
    "outputId": "042b28df-4858-4ec3-b9cd-5f2584ec0038"
   },
   "outputs": [
    {
     "name": "stdout",
     "output_type": "stream",
     "text": [
      "Number of Unique Genes : 238\n",
      "BRCA1     165\n",
      "TP53      106\n",
      "BRCA2      86\n",
      "EGFR       85\n",
      "PTEN       84\n",
      "KIT        68\n",
      "BRAF       56\n",
      "ALK        52\n",
      "ERBB2      45\n",
      "PIK3CA     40\n",
      "Name: Gene, dtype: int64\n"
     ]
    }
   ],
   "source": [
    "unique_genes = train_df['Gene'].value_counts()\n",
    "print('Number of Unique Genes :', unique_genes.shape[0])\n",
    "# the top 10 genes that occured most\n",
    "print(unique_genes.head(10))"
   ]
  },
  {
   "cell_type": "code",
   "execution_count": null,
   "id": "5b39791d",
   "metadata": {
    "colab": {
     "base_uri": "https://localhost:8080/"
    },
    "id": "T5cMcwH-OQwD",
    "outputId": "791fdc24-cb51-43a5-a8ae-6168b779b8f4",
    "scrolled": true
   },
   "outputs": [
    {
     "name": "stdout",
     "output_type": "stream",
     "text": [
      "Ans: There are 238 different categories of genes in the train data, and they are distibuted as follows\n"
     ]
    }
   ],
   "source": [
    "print(\"Ans: There are\", unique_genes.shape[0] ,\"different categories of genes in the train data, and they are distibuted as follows\",)"
   ]
  },
  {
   "cell_type": "code",
   "execution_count": null,
   "id": "0e200745",
   "metadata": {
    "colab": {
     "base_uri": "https://localhost:8080/",
     "height": 279
    },
    "id": "94tkkWJFOQwK",
    "outputId": "714936ab-8d59-4c62-9133-eaebd9d5fae5"
   },
   "outputs": [
    {
     "data": {
      "image/png": "[encoded data removed]",
      "text/plain": [
       "<Figure size 432x288 with 1 Axes>"
      ]
     },
     "metadata": {
      "needs_background": "light",
      "tags": []
     },
     "output_type": "display_data"
    }
   ],
   "source": [
    "s = sum(unique_genes.values);\n",
    "h = unique_genes.values/s;\n",
    "plt.plot(h, label=\"Histrogram of Genes\")\n",
    "plt.xlabel('Index of a Gene')\n",
    "plt.ylabel('Number of Occurances')\n",
    "plt.legend()\n",
    "plt.grid()\n",
    "plt.show()\n"
   ]
  },
  {
   "cell_type": "code",
   "execution_count": null,
   "id": "f5d8aa60",
   "metadata": {
    "colab": {
     "base_uri": "https://localhost:8080/",
     "height": 265
    },
    "id": "GSYysPfLOQwP",
    "outputId": "fa72921d-a5bb-4c6e-a9ea-8b67304ad05f"
   },
   "outputs": [
    {
     "data": {
      "image/png": "[encoded data removed]",
      "text/plain": [
       "<Figure size 432x288 with 1 Axes>"
      ]
     },
     "metadata": {
      "needs_background": "light",
      "tags": []
     },
     "output_type": "display_data"
    }
   ],
   "source": [
    "c = np.cumsum(h)\n",
    "plt.plot(c,label='Cumulative distribution of Genes')\n",
    "plt.grid()\n",
    "plt.legend()\n",
    "plt.show()"
   ]
  },
  {
   "cell_type": "markdown",
   "id": "b079cf71",
   "metadata": {
    "id": "KA0msTHPOQwT"
   },
   "source": [
    "<p style=\"font-size:18px;\"> <b>Q3.</b> How to featurize this Gene feature ?</p>\n",
    "\n",
    "<p style=\"font-size:16px;\"><b>Ans.</b>there are two ways we can featurize this variable\n",
    "\n",
    "\n",
    "<ol><li>One hot Encoding</li><li>Response coding</li></ol></p>\n",
    "<p> We will choose the appropriate featurization based on the ML model we use.  For this problem of multi-class classification with categorical features, one-hot encoding is better for Logistic regression while response coding is better for Random Forests. </p>"
   ]
  },
  {
   "cell_type": "code",
   "execution_count": null,
   "id": "ccbb29b4",
   "metadata": {
    "id": "TcsbuDqcOQwU"
   },
   "outputs": [],
   "source": [
    "#response-coding of the Gene feature\n",
    "# alpha is used for laplace smoothing\n",
    "alpha = 1\n",
    "# train gene feature\n",
    "train_gene_feature_responseCoding = np.array(get_gv_feature(alpha, \"Gene\", train_df))\n",
    "# test gene feature\n",
    "test_gene_feature_responseCoding = np.array(get_gv_feature(alpha, \"Gene\", test_df))\n",
    "# cross validation gene feature\n",
    "cv_gene_feature_responseCoding = np.array(get_gv_feature(alpha, \"Gene\", cv_df))"
   ]
  },
  {
   "cell_type": "code",
   "execution_count": null,
   "id": "0a6e0d1b",
   "metadata": {
    "colab": {
     "base_uri": "https://localhost:8080/"
    },
    "id": "B-3krnrxkVJY",
    "outputId": "a0fc5a1a-3304-4763-c3a6-b863e1cbf08d"
   },
   "outputs": [
    {
     "data": {
      "text/plain": [
       "array([[0.06329114, 0.2721519 , 0.06329114, ..., 0.27848101, 0.06329114,\n",
       "        0.06329114],\n",
       "       [0.1010101 , 0.1010101 , 0.1010101 , ..., 0.1010101 , 0.1010101 ,\n",
       "        0.19191919],\n",
       "       [0.07407407, 0.12592593, 0.07407407, ..., 0.22222222, 0.07407407,\n",
       "        0.07407407],\n",
       "       ...,\n",
       "       [0.08527132, 0.07751938, 0.13953488, ..., 0.27906977, 0.07751938,\n",
       "        0.07751938],\n",
       "       [0.18431373, 0.03921569, 0.0745098 , ..., 0.03921569, 0.03921569,\n",
       "        0.03921569],\n",
       "       [0.09615385, 0.19230769, 0.09615385, ..., 0.13461538, 0.09615385,\n",
       "        0.09615385]])"
      ]
     },
     "execution_count": 36,
     "metadata": {
      "tags": []
     },
     "output_type": "execute_result"
    }
   ],
   "source": [
    "train_gene_feature_responseCoding"
   ]
  },
  {
   "cell_type": "code",
   "execution_count": null,
   "id": "8791cc20",
   "metadata": {
    "colab": {
     "base_uri": "https://localhost:8080/"
    },
    "id": "CejFANCDOQwb",
    "outputId": "df0fe02d-f3db-454e-a30e-d5fa7b8cdd7a"
   },
   "outputs": [
    {
     "name": "stdout",
     "output_type": "stream",
     "text": [
      "train_gene_feature_responseCoding is converted feature using respone coding method. The shape of gene feature: (2124, 9)\n"
     ]
    }
   ],
   "source": [
    "print(\"train_gene_feature_responseCoding is converted feature using respone coding method. The shape of gene feature:\", train_gene_feature_responseCoding.shape)"
   ]
  },
  {
   "cell_type": "code",
   "execution_count": null,
   "id": "3ded5683",
   "metadata": {
    "id": "7TiLWR3LOQwq"
   },
   "outputs": [],
   "source": [
    "# one-hot encoding of Gene feature.\n",
    "gene_vectorizer = CountVectorizer()\n",
    "train_gene_feature_onehotCoding = gene_vectorizer.fit_transform(train_df['Gene'])\n",
    "test_gene_feature_onehotCoding = gene_vectorizer.transform(test_df['Gene'])\n",
    "cv_gene_feature_onehotCoding = gene_vectorizer.transform(cv_df['Gene'])"
   ]
  },
  {
   "cell_type": "code",
   "execution_count": null,
   "id": "bbecf8e0",
   "metadata": {
    "id": "Qews-nkHjR30"
   },
   "outputs": [],
   "source": [
    "import pickle\n",
    "filename='/content/drive/MyDrive/onehotgene.pkl'\n",
    "pickle.dump(gene_vectorizer, open(filename, 'wb'))"
   ]
  },
  {
   "cell_type": "code",
   "execution_count": null,
   "id": "53f9b477",
   "metadata": {
    "colab": {
     "base_uri": "https://localhost:8080/"
    },
    "id": "foYJ4tJnOQwt",
    "outputId": "fd439553-2781-4c0b-ca26-f5514e5e8f7d"
   },
   "outputs": [
    {
     "data": {
      "text/plain": [
       "2973      KIT\n",
       "134     SF3B1\n",
       "766     ERBB2\n",
       "3205      RB1\n",
       "2511    BRCA1\n",
       "Name: Gene, dtype: object"
      ]
     },
     "execution_count": 40,
     "metadata": {
      "tags": []
     },
     "output_type": "execute_result"
    }
   ],
   "source": [
    "train_df['Gene'].head()"
   ]
  },
  {
   "cell_type": "code",
   "execution_count": null,
   "id": "2323ba7b",
   "metadata": {
    "colab": {
     "base_uri": "https://localhost:8080/"
    },
    "id": "7aohGapoOQwx",
    "outputId": "bd00d659-03f3-4406-ac6d-982aa07ed926"
   },
   "outputs": [
    {
     "data": {
      "text/plain": [
       "['abl1',\n",
       " 'acvr1',\n",
       " 'ago2',\n",
       " 'akt1',\n",
       " 'akt2',\n",
       " 'akt3',\n",
       " 'alk',\n",
       " 'apc',\n",
       " 'ar',\n",
       " 'araf',\n",
       " 'arid1a',\n",
       " 'arid1b',\n",
       " 'arid2',\n",
       " 'asxl1',\n",
       " 'asxl2',\n",
       " 'atm',\n",
       " 'atr',\n",
       " 'aurka',\n",
       " 'aurkb',\n",
       " 'axin1',\n",
       " 'axl',\n",
       " 'b2m',\n",
       " 'bap1',\n",
       " 'bard1',\n",
       " 'bcl10',\n",
       " 'bcl2',\n",
       " 'bcl2l11',\n",
       " 'bcor',\n",
       " 'braf',\n",
       " 'brca1',\n",
       " 'brca2',\n",
       " 'brip1',\n",
       " 'btk',\n",
       " 'card11',\n",
       " 'carm1',\n",
       " 'casp8',\n",
       " 'cbl',\n",
       " 'ccnd1',\n",
       " 'ccnd2',\n",
       " 'ccnd3',\n",
       " 'cdh1',\n",
       " 'cdk12',\n",
       " 'cdk4',\n",
       " 'cdk6',\n",
       " 'cdk8',\n",
       " 'cdkn1a',\n",
       " 'cdkn1b',\n",
       " 'cdkn2a',\n",
       " 'cdkn2b',\n",
       " 'cdkn2c',\n",
       " 'cebpa',\n",
       " 'chek2',\n",
       " 'cic',\n",
       " 'crebbp',\n",
       " 'ctcf',\n",
       " 'ctla4',\n",
       " 'ctnnb1',\n",
       " 'ddr2',\n",
       " 'dicer1',\n",
       " 'dnmt3a',\n",
       " 'dnmt3b',\n",
       " 'dusp4',\n",
       " 'egfr',\n",
       " 'elf3',\n",
       " 'ep300',\n",
       " 'epas1',\n",
       " 'erbb2',\n",
       " 'erbb3',\n",
       " 'erbb4',\n",
       " 'ercc2',\n",
       " 'ercc3',\n",
       " 'ercc4',\n",
       " 'erg',\n",
       " 'errfi1',\n",
       " 'esr1',\n",
       " 'etv1',\n",
       " 'etv6',\n",
       " 'ewsr1',\n",
       " 'ezh2',\n",
       " 'fanca',\n",
       " 'fancc',\n",
       " 'fat1',\n",
       " 'fbxw7',\n",
       " 'fgf19',\n",
       " 'fgf3',\n",
       " 'fgf4',\n",
       " 'fgfr1',\n",
       " 'fgfr2',\n",
       " 'fgfr3',\n",
       " 'fgfr4',\n",
       " 'flt1',\n",
       " 'flt3',\n",
       " 'foxa1',\n",
       " 'foxl2',\n",
       " 'fubp1',\n",
       " 'gata3',\n",
       " 'gli1',\n",
       " 'gna11',\n",
       " 'gnaq',\n",
       " 'gnas',\n",
       " 'h3f3a',\n",
       " 'hist1h1c',\n",
       " 'hla',\n",
       " 'hnf1a',\n",
       " 'hras',\n",
       " 'idh1',\n",
       " 'idh2',\n",
       " 'igf1r',\n",
       " 'ikbke',\n",
       " 'il7r',\n",
       " 'inpp4b',\n",
       " 'jak1',\n",
       " 'jak2',\n",
       " 'jun',\n",
       " 'kdm5c',\n",
       " 'kdm6a',\n",
       " 'kdr',\n",
       " 'keap1',\n",
       " 'kit',\n",
       " 'klf4',\n",
       " 'kmt2a',\n",
       " 'kmt2c',\n",
       " 'kmt2d',\n",
       " 'knstrn',\n",
       " 'kras',\n",
       " 'lats1',\n",
       " 'lats2',\n",
       " 'map2k1',\n",
       " 'map2k2',\n",
       " 'map2k4',\n",
       " 'map3k1',\n",
       " 'mapk1',\n",
       " 'mdm2',\n",
       " 'mdm4',\n",
       " 'med12',\n",
       " 'mef2b',\n",
       " 'men1',\n",
       " 'met',\n",
       " 'mga',\n",
       " 'mlh1',\n",
       " 'mpl',\n",
       " 'msh2',\n",
       " 'msh6',\n",
       " 'mtor',\n",
       " 'myc',\n",
       " 'mycn',\n",
       " 'myd88',\n",
       " 'ncor1',\n",
       " 'nf1',\n",
       " 'nf2',\n",
       " 'nfe2l2',\n",
       " 'nfkbia',\n",
       " 'nkx2',\n",
       " 'notch1',\n",
       " 'notch2',\n",
       " 'npm1',\n",
       " 'nras',\n",
       " 'nsd1',\n",
       " 'ntrk1',\n",
       " 'ntrk2',\n",
       " 'ntrk3',\n",
       " 'nup93',\n",
       " 'pak1',\n",
       " 'pbrm1',\n",
       " 'pdgfra',\n",
       " 'pdgfrb',\n",
       " 'pik3ca',\n",
       " 'pik3cb',\n",
       " 'pik3cd',\n",
       " 'pik3r1',\n",
       " 'pik3r2',\n",
       " 'pik3r3',\n",
       " 'pim1',\n",
       " 'pms2',\n",
       " 'pole',\n",
       " 'ppp2r1a',\n",
       " 'ppp6c',\n",
       " 'prdm1',\n",
       " 'ptch1',\n",
       " 'pten',\n",
       " 'ptpn11',\n",
       " 'ptprd',\n",
       " 'ptprt',\n",
       " 'rab35',\n",
       " 'rac1',\n",
       " 'rad21',\n",
       " 'rad50',\n",
       " 'rad51c',\n",
       " 'rad51d',\n",
       " 'rad54l',\n",
       " 'raf1',\n",
       " 'rasa1',\n",
       " 'rb1',\n",
       " 'rbm10',\n",
       " 'ret',\n",
       " 'rheb',\n",
       " 'rhoa',\n",
       " 'rit1',\n",
       " 'ros1',\n",
       " 'runx1',\n",
       " 'rxra',\n",
       " 'rybp',\n",
       " 'sdhb',\n",
       " 'sdhc',\n",
       " 'setd2',\n",
       " 'sf3b1',\n",
       " 'shoc2',\n",
       " 'smad2',\n",
       " 'smad3',\n",
       " 'smad4',\n",
       " 'smarca4',\n",
       " 'smarcb1',\n",
       " 'smo',\n",
       " 'sos1',\n",
       " 'sox9',\n",
       " 'spop',\n",
       " 'src',\n",
       " 'stag2',\n",
       " 'stat3',\n",
       " 'stk11',\n",
       " 'tcf7l2',\n",
       " 'tert',\n",
       " 'tet1',\n",
       " 'tet2',\n",
       " 'tgfbr1',\n",
       " 'tgfbr2',\n",
       " 'tmprss2',\n",
       " 'tp53',\n",
       " 'tsc1',\n",
       " 'tsc2',\n",
       " 'u2af1',\n",
       " 'vegfa',\n",
       " 'vhl',\n",
       " 'whsc1',\n",
       " 'xpo1',\n",
       " 'xrcc2',\n",
       " 'yap1']"
      ]
     },
     "execution_count": 41,
     "metadata": {
      "tags": []
     },
     "output_type": "execute_result"
    }
   ],
   "source": [
    "gene_vectorizer.get_feature_names()"
   ]
  },
  {
   "cell_type": "code",
   "execution_count": null,
   "id": "ee22c0f6",
   "metadata": {
    "colab": {
     "base_uri": "https://localhost:8080/"
    },
    "id": "RnMPvg4OOQw0",
    "outputId": "b04ab072-3695-4a2a-8ddc-1d73632bcf42"
   },
   "outputs": [
    {
     "name": "stdout",
     "output_type": "stream",
     "text": [
      "train_gene_feature_onehotCoding is converted feature using one-hot encoding method. The shape of gene feature: (2124, 237)\n"
     ]
    }
   ],
   "source": [
    "print(\"train_gene_feature_onehotCoding is converted feature using one-hot encoding method. The shape of gene feature:\", train_gene_feature_onehotCoding.shape)"
   ]
  },
  {
   "cell_type": "markdown",
   "id": "764db448",
   "metadata": {
    "id": "dKDkc6TeOQw-"
   },
   "source": [
    "<p style=\"font-size:18px;\"> <b>Q4.</b> How good is this gene feature  in predicting y_i?</p>"
   ]
  },
  {
   "cell_type": "markdown",
   "id": "0734d0a5",
   "metadata": {
    "id": "vJ-891DNOQw_"
   },
   "source": [
    "There are many ways to estimate how good a feature is, in predicting y_i. One of the good methods is to build a proper ML model using just this feature. In this case, we will build a logistic regression model using only Gene feature (one hot encoded) to predict y_i."
   ]
  },
  {
   "cell_type": "code",
   "execution_count": null,
   "id": "9675a8db",
   "metadata": {
    "colab": {
     "base_uri": "https://localhost:8080/",
     "height": 450
    },
    "id": "3lcCW-oEOQxA",
    "outputId": "d96c67ad-044f-43c2-aa99-30f786871697"
   },
   "outputs": [
    {
     "name": "stdout",
     "output_type": "stream",
     "text": [
      "For values of alpha =  1e-05 The log loss is: 1.210012785852337\n",
      "For values of alpha =  0.0001 The log loss is: 1.1982620202180425\n",
      "For values of alpha =  0.001 The log loss is: 1.2417364314131984\n",
      "For values of alpha =  0.01 The log loss is: 1.3625528660153665\n",
      "For values of alpha =  0.1 The log loss is: 1.4438872899803041\n",
      "For values of alpha =  1 The log loss is: 1.4713075502187514\n"
     ]
    },
    {
     "data": {
      "image/png": "[encoded data removed]",
      "text/plain": [
       "<Figure size 432x288 with 1 Axes>"
      ]
     },
     "metadata": {
      "needs_background": "light",
      "tags": []
     },
     "output_type": "display_data"
    },
    {
     "name": "stdout",
     "output_type": "stream",
     "text": [
      "For values of best alpha =  0.0001 The train log loss is: 0.9491135983909916\n",
      "For values of best alpha =  0.0001 The cross validation log loss is: 1.1982620202180425\n",
      "For values of best alpha =  0.0001 The test log loss is: 1.302113291017291\n"
     ]
    }
   ],
   "source": [
    "alpha = [10 ** x for x in range(-5, 1)] # hyperparam for SGD classifier.\n",
    "\n",
    "# read more about SGDClassifier() at http://scikit-learn.org/stable/modules/generated/sklearn.linear_model.SGDClassifier.html\n",
    "# ------------------------------\n",
    "# default parameters\n",
    "# SGDClassifier(loss=’hinge’, penalty=’l2’, alpha=0.0001, l1_ratio=0.15, fit_intercept=True, max_iter=None, tol=None, \n",
    "# shuffle=True, verbose=0, epsilon=0.1, n_jobs=1, random_state=None, learning_rate=’optimal’, eta0=0.0, power_t=0.5, \n",
    "# class_weight=None, warm_start=False, average=False, n_iter=None)\n",
    "\n",
    "# some of methods\n",
    "# fit(X, y[, coef_init, intercept_init, …])\tFit linear model with Stochastic Gradient Descent.\n",
    "# predict(X)\tPredict class labels for samples in X.\n",
    "\n",
    "#-------------------------------\n",
    "# video link: \n",
    "#------------------------------\n",
    "\n",
    "\n",
    "cv_log_error_array=[]\n",
    "for i in alpha:\n",
    "    clf = SGDClassifier(alpha=i, penalty='l2', loss='log', random_state=42)\n",
    "    clf.fit(train_gene_feature_onehotCoding, y_train)\n",
    "    sig_clf = CalibratedClassifierCV(clf, method=\"sigmoid\")\n",
    "    sig_clf.fit(train_gene_feature_onehotCoding, y_train)\n",
    "    predict_y = sig_clf.predict_proba(cv_gene_feature_onehotCoding)\n",
    "    cv_log_error_array.append(log_loss(y_cv, predict_y, labels=clf.classes_, eps=1e-15))\n",
    "    print('For values of alpha = ', i, \"The log loss is:\",log_loss(y_cv, predict_y, labels=clf.classes_, eps=1e-15))\n",
    "\n",
    "fig, ax = plt.subplots()\n",
    "ax.plot(alpha, cv_log_error_array,c='g')\n",
    "for i, txt in enumerate(np.round(cv_log_error_array,3)):\n",
    "    ax.annotate((alpha[i],np.round(txt,3)), (alpha[i],cv_log_error_array[i]))\n",
    "plt.grid()\n",
    "plt.title(\"Cross Validation Error for each alpha\")\n",
    "plt.xlabel(\"Alpha i's\")\n",
    "plt.ylabel(\"Error measure\")\n",
    "plt.show()\n",
    "\n",
    "\n",
    "best_alpha = np.argmin(cv_log_error_array)\n",
    "clf = SGDClassifier(alpha=alpha[best_alpha], penalty='l2', loss='log', random_state=42)\n",
    "clf.fit(train_gene_feature_onehotCoding, y_train)\n",
    "sig_clf = CalibratedClassifierCV(clf, method=\"sigmoid\")\n",
    "sig_clf.fit(train_gene_feature_onehotCoding, y_train)\n",
    "\n",
    "predict_y = sig_clf.predict_proba(train_gene_feature_onehotCoding)\n",
    "print('For values of best alpha = ', alpha[best_alpha], \"The train log loss is:\",log_loss(y_train, predict_y, labels=clf.classes_, eps=1e-15))\n",
    "predict_y = sig_clf.predict_proba(cv_gene_feature_onehotCoding)\n",
    "print('For values of best alpha = ', alpha[best_alpha], \"The cross validation log loss is:\",log_loss(y_cv, predict_y, labels=clf.classes_, eps=1e-15))\n",
    "predict_y = sig_clf.predict_proba(test_gene_feature_onehotCoding)\n",
    "print('For values of best alpha = ', alpha[best_alpha], \"The test log loss is:\",log_loss(y_test, predict_y, labels=clf.classes_, eps=1e-15))\n"
   ]
  },
  {
   "cell_type": "markdown",
   "id": "96f221a8",
   "metadata": {
    "id": "AZjuFgxwOQxE"
   },
   "source": [
    "<p style=\"font-size:18px;\"> <b>Q5.</b> Is the Gene feature stable across all the data sets (Test, Train, Cross validation)?</p>\n",
    "<p style=\"font-size:16px;\"> <b>Ans.</b> Yes, it is. Otherwise, the CV and Test errors would be significantly more than train error. </p>"
   ]
  },
  {
   "cell_type": "code",
   "execution_count": null,
   "id": "aee933ad",
   "metadata": {
    "colab": {
     "base_uri": "https://localhost:8080/"
    },
    "id": "PjY8VwyuOQxK",
    "outputId": "712ee0da-0ff0-439a-d3e8-fd052af95a4c"
   },
   "outputs": [
    {
     "name": "stdout",
     "output_type": "stream",
     "text": [
      "Q6. How many data points in Test and CV datasets are covered by the  238  genes in train dataset?\n",
      "Ans\n",
      "1. In test data 650 out of 665 : 97.74436090225564\n",
      "2. In cross validation data 516 out of  532 : 96.99248120300751\n"
     ]
    }
   ],
   "source": [
    "print(\"Q6. How many data points in Test and CV datasets are covered by the \", unique_genes.shape[0], \" genes in train dataset?\")\n",
    "\n",
    "test_coverage=test_df[test_df['Gene'].isin(list(set(train_df['Gene'])))].shape[0]\n",
    "cv_coverage=cv_df[cv_df['Gene'].isin(list(set(train_df['Gene'])))].shape[0]\n",
    "\n",
    "print('Ans\\n1. In test data',test_coverage, 'out of',test_df.shape[0], \":\",(test_coverage/test_df.shape[0])*100)\n",
    "print('2. In cross validation data',cv_coverage, 'out of ',cv_df.shape[0],\":\" ,(cv_coverage/cv_df.shape[0])*100)"
   ]
  },
  {
   "cell_type": "markdown",
   "id": "9582ca4f",
   "metadata": {
    "id": "GZ8dUhbbOQxN"
   },
   "source": [
    "<h3>3.2.2 Univariate Analysis on Variation Feature</h3>"
   ]
  },
  {
   "cell_type": "markdown",
   "id": "a7fe3dd7",
   "metadata": {
    "id": "ZH8TKwYjOQxO"
   },
   "source": [
    "<p style=\"font-size:18px;\"> <b>Q7.</b> Variation, What type of feature is it ?</p>\n",
    "<p style=\"font-size:16px;\"><b>Ans.</b> Variation is a categorical variable </p>\n",
    "<p style=\"font-size:18px;\"> <b>Q8.</b> How many categories are there?</p>"
   ]
  },
  {
   "cell_type": "code",
   "execution_count": null,
   "id": "09229f52",
   "metadata": {
    "colab": {
     "base_uri": "https://localhost:8080/"
    },
    "id": "ipBDKwsoOQxP",
    "outputId": "dd6d47cf-a617-4417-ee1a-9997aa41e328"
   },
   "outputs": [
    {
     "name": "stdout",
     "output_type": "stream",
     "text": [
      "Number of Unique Variations : 1924\n",
      "Truncating_Mutations    60\n",
      "Deletion                48\n",
      "Amplification           45\n",
      "Fusions                 22\n",
      "Overexpression           3\n",
      "E17K                     3\n",
      "Q61R                     2\n",
      "T167A                    2\n",
      "K117N                    2\n",
      "Q61K                     2\n",
      "Name: Variation, dtype: int64\n"
     ]
    }
   ],
   "source": [
    "unique_variations = train_df['Variation'].value_counts()\n",
    "print('Number of Unique Variations :', unique_variations.shape[0])\n",
    "# the top 10 variations that occured most\n",
    "print(unique_variations.head(10))"
   ]
  },
  {
   "cell_type": "code",
   "execution_count": null,
   "id": "2e920d2c",
   "metadata": {
    "colab": {
     "base_uri": "https://localhost:8080/"
    },
    "id": "K9wWS-NYOQxV",
    "outputId": "10f83fd6-cc7f-4045-f1ee-eb42dd7261fa",
    "scrolled": true
   },
   "outputs": [
    {
     "name": "stdout",
     "output_type": "stream",
     "text": [
      "Ans: There are 1924 different categories of variations in the train data, and they are distibuted as follows\n"
     ]
    }
   ],
   "source": [
    "print(\"Ans: There are\", unique_variations.shape[0] ,\"different categories of variations in the train data, and they are distibuted as follows\",)"
   ]
  },
  {
   "cell_type": "code",
   "execution_count": null,
   "id": "0885e3cc",
   "metadata": {
    "colab": {
     "base_uri": "https://localhost:8080/",
     "height": 279
    },
    "id": "B7NmwrkpOQxk",
    "outputId": "adc79678-ca56-491d-e2fa-9d45e9c7bfa1"
   },
   "outputs": [
    {
     "data": {
      "image/png": "[encoded data removed]",
      "text/plain": [
       "<Figure size 432x288 with 1 Axes>"
      ]
     },
     "metadata": {
      "needs_background": "light",
      "tags": []
     },
     "output_type": "display_data"
    }
   ],
   "source": [
    "s = sum(unique_variations.values);\n",
    "h = unique_variations.values/s;\n",
    "plt.plot(h, label=\"Histogram of Variations\")\n",
    "plt.xlabel('Index of a Variation')\n",
    "plt.ylabel('Number of Occurances')\n",
    "plt.legend()\n",
    "plt.grid()\n",
    "plt.show()"
   ]
  },
  {
   "cell_type": "code",
   "execution_count": null,
   "id": "11c56725",
   "metadata": {
    "colab": {
     "base_uri": "https://localhost:8080/",
     "height": 282
    },
    "id": "9sWC9-MXOQxo",
    "outputId": "a779a7db-adc7-4cca-da41-a161e915df6d"
   },
   "outputs": [
    {
     "name": "stdout",
     "output_type": "stream",
     "text": [
      "[0.02824859 0.05084746 0.0720339  ... 0.99905838 0.99952919 1.        ]\n"
     ]
    },
    {
     "data": {
      "image/png": "[encoded data removed]",
      "text/plain": [
       "<Figure size 432x288 with 1 Axes>"
      ]
     },
     "metadata": {
      "needs_background": "light",
      "tags": []
     },
     "output_type": "display_data"
    }
   ],
   "source": [
    "c = np.cumsum(h)\n",
    "print(c)\n",
    "plt.plot(c,label='Cumulative distribution of Variations')\n",
    "plt.grid()\n",
    "plt.legend()\n",
    "plt.show()"
   ]
  },
  {
   "cell_type": "markdown",
   "id": "9d67693b",
   "metadata": {
    "id": "e_jKtHYZOQxt"
   },
   "source": [
    "<p style=\"font-size:18px;\"> <b>Q9.</b> How to featurize this Variation feature ?</p>\n",
    "\n",
    "<p style=\"font-size:16px;\"><b>Ans.</b>There are two ways we can featurize this variable\n",
    "check out this video: https://www.appliedaicourse.com/course/applied-ai-course-online/lessons/handling-categorical-and-numerical-features/\n",
    "<ol><li>One hot Encoding</li><li>Response coding</li></ol></p>\n",
    "<p> We will be using both these methods to featurize the Variation Feature </p>"
   ]
  },
  {
   "cell_type": "code",
   "execution_count": null,
   "id": "7f6285af",
   "metadata": {
    "id": "3FG82Rp2OQxt"
   },
   "outputs": [],
   "source": [
    "# alpha is used for laplace smoothing\n",
    "alpha = 1\n",
    "# train gene feature\n",
    "train_variation_feature_responseCoding = np.array(get_gv_feature(alpha, \"Variation\", train_df))\n",
    "# test gene feature\n",
    "test_variation_feature_responseCoding = np.array(get_gv_feature(alpha, \"Variation\", test_df))\n",
    "# cross validation gene feature\n",
    "cv_variation_feature_responseCoding = np.array(get_gv_feature(alpha, \"Variation\", cv_df))"
   ]
  },
  {
   "cell_type": "code",
   "execution_count": null,
   "id": "9e155a22",
   "metadata": {
    "colab": {
     "base_uri": "https://localhost:8080/"
    },
    "id": "FETgZxHEOQxw",
    "outputId": "3c0af1a3-79a1-490f-b714-0d315f2ab71e"
   },
   "outputs": [
    {
     "name": "stdout",
     "output_type": "stream",
     "text": [
      "train_variation_feature_responseCoding is a converted feature using the response coding method. The shape of Variation feature: (2124, 9)\n"
     ]
    }
   ],
   "source": [
    "print(\"train_variation_feature_responseCoding is a converted feature using the response coding method. The shape of Variation feature:\", train_variation_feature_responseCoding.shape)"
   ]
  },
  {
   "cell_type": "code",
   "execution_count": null,
   "id": "20bede25",
   "metadata": {
    "id": "ruAYi3HwOQxy"
   },
   "outputs": [],
   "source": [
    "# one-hot encoding of variation feature.\n",
    "variation_vectorizer = CountVectorizer()\n",
    "train_variation_feature_onehotCoding = variation_vectorizer.fit_transform(train_df['Variation'])\n",
    "test_variation_feature_onehotCoding = variation_vectorizer.transform(test_df['Variation'])\n",
    "cv_variation_feature_onehotCoding = variation_vectorizer.transform(cv_df['Variation'])"
   ]
  },
  {
   "cell_type": "code",
   "execution_count": null,
   "id": "9348c656",
   "metadata": {
    "id": "ypVMT3FJi1Su"
   },
   "outputs": [],
   "source": [
    "import pickle\n",
    "filename='/content/drive/MyDrive/onehotvariation.pkl'\n",
    "pickle.dump(variation_vectorizer, open(filename, 'wb'))"
   ]
  },
  {
   "cell_type": "code",
   "execution_count": null,
   "id": "aba41347",
   "metadata": {
    "colab": {
     "base_uri": "https://localhost:8080/"
    },
    "id": "pUdraWMYOQx3",
    "outputId": "9dc8ffc3-3270-4d4a-a975-d62fe53b1fbb"
   },
   "outputs": [
    {
     "name": "stdout",
     "output_type": "stream",
     "text": [
      "train_variation_feature_onehotEncoded is converted feature using the onne-hot encoding method. The shape of Variation feature: (2124, 1953)\n"
     ]
    }
   ],
   "source": [
    "print(\"train_variation_feature_onehotEncoded is converted feature using the onne-hot encoding method. The shape of Variation feature:\", train_variation_feature_onehotCoding.shape)"
   ]
  },
  {
   "cell_type": "markdown",
   "id": "252fa429",
   "metadata": {
    "id": "hhg1JfPtOQx7"
   },
   "source": [
    "<p style=\"font-size:18px;\"> <b>Q10.</b> How good is this Variation feature  in predicting y_i?</p>"
   ]
  },
  {
   "cell_type": "markdown",
   "id": "3e7afe2f",
   "metadata": {
    "id": "1zjZ4FBNOQx9"
   },
   "source": [
    "Let's build a model just like the earlier!"
   ]
  },
  {
   "cell_type": "code",
   "execution_count": null,
   "id": "dcf3ca29",
   "metadata": {
    "colab": {
     "base_uri": "https://localhost:8080/",
     "height": 450
    },
    "id": "RDa2yRKfOQx9",
    "outputId": "8d891613-b0d0-4a57-df9b-f805b823671c",
    "scrolled": false
   },
   "outputs": [
    {
     "name": "stdout",
     "output_type": "stream",
     "text": [
      "For values of alpha =  1e-05 The log loss is: 1.7196147677948719\n",
      "For values of alpha =  0.0001 The log loss is: 1.7116346487343215\n",
      "For values of alpha =  0.001 The log loss is: 1.7127040253560537\n",
      "For values of alpha =  0.01 The log loss is: 1.7118319645232958\n",
      "For values of alpha =  0.1 The log loss is: 1.7232909010602353\n",
      "For values of alpha =  1 The log loss is: 1.7246916585654568\n"
     ]
    },
    {
     "data": {
      "image/png": "[encoded data removed]",
      "text/plain": [
       "<Figure size 432x288 with 1 Axes>"
      ]
     },
     "metadata": {
      "needs_background": "light",
      "tags": []
     },
     "output_type": "display_data"
    },
    {
     "name": "stdout",
     "output_type": "stream",
     "text": [
      "For values of best alpha =  0.0001 The train log loss is: 0.7142240800368891\n",
      "For values of best alpha =  0.0001 The cross validation log loss is: 1.7116346487343215\n",
      "For values of best alpha =  0.0001 The test log loss is: 1.7004413455284506\n"
     ]
    }
   ],
   "source": [
    "alpha = [10 ** x for x in range(-5, 1)]\n",
    "\n",
    "# read more about SGDClassifier() at http://scikit-learn.org/stable/modules/generated/sklearn.linear_model.SGDClassifier.html\n",
    "# ------------------------------\n",
    "# default parameters\n",
    "# SGDClassifier(loss=’hinge’, penalty=’l2’, alpha=0.0001, l1_ratio=0.15, fit_intercept=True, max_iter=None, tol=None, \n",
    "# shuffle=True, verbose=0, epsilon=0.1, n_jobs=1, random_state=None, learning_rate=’optimal’, eta0=0.0, power_t=0.5, \n",
    "# class_weight=None, warm_start=False, average=False, n_iter=None)\n",
    "\n",
    "# some of methods\n",
    "# fit(X, y[, coef_init, intercept_init, …])\tFit linear model with Stochastic Gradient Descent.\n",
    "# predict(X)\tPredict class labels for samples in X.\n",
    "\n",
    "#-------------------------------\n",
    "# video link: \n",
    "#------------------------------\n",
    "\n",
    "\n",
    "cv_log_error_array=[]\n",
    "for i in alpha:\n",
    "    clf = SGDClassifier(alpha=i, penalty='l2', loss='log', random_state=42)\n",
    "    clf.fit(train_variation_feature_onehotCoding, y_train)\n",
    "    \n",
    "    sig_clf = CalibratedClassifierCV(clf, method=\"sigmoid\")\n",
    "    sig_clf.fit(train_variation_feature_onehotCoding, y_train)\n",
    "    predict_y = sig_clf.predict_proba(cv_variation_feature_onehotCoding)\n",
    "    \n",
    "    cv_log_error_array.append(log_loss(y_cv, predict_y, labels=clf.classes_, eps=1e-15))\n",
    "    print('For values of alpha = ', i, \"The log loss is:\",log_loss(y_cv, predict_y, labels=clf.classes_, eps=1e-15))\n",
    "\n",
    "fig, ax = plt.subplots()\n",
    "ax.plot(alpha, cv_log_error_array,c='g')\n",
    "for i, txt in enumerate(np.round(cv_log_error_array,3)):\n",
    "    ax.annotate((alpha[i],np.round(txt,3)), (alpha[i],cv_log_error_array[i]))\n",
    "plt.grid()\n",
    "plt.title(\"Cross Validation Error for each alpha\")\n",
    "plt.xlabel(\"Alpha i's\")\n",
    "plt.ylabel(\"Error measure\")\n",
    "plt.show()\n",
    "\n",
    "\n",
    "best_alpha = np.argmin(cv_log_error_array)\n",
    "clf = SGDClassifier(alpha=alpha[best_alpha], penalty='l2', loss='log', random_state=42)\n",
    "clf.fit(train_variation_feature_onehotCoding, y_train)\n",
    "sig_clf = CalibratedClassifierCV(clf, method=\"sigmoid\")\n",
    "sig_clf.fit(train_variation_feature_onehotCoding, y_train)\n",
    "\n",
    "predict_y = sig_clf.predict_proba(train_variation_feature_onehotCoding)\n",
    "print('For values of best alpha = ', alpha[best_alpha], \"The train log loss is:\",log_loss(y_train, predict_y, labels=clf.classes_, eps=1e-15))\n",
    "predict_y = sig_clf.predict_proba(cv_variation_feature_onehotCoding)\n",
    "print('For values of best alpha = ', alpha[best_alpha], \"The cross validation log loss is:\",log_loss(y_cv, predict_y, labels=clf.classes_, eps=1e-15))\n",
    "predict_y = sig_clf.predict_proba(test_variation_feature_onehotCoding)\n",
    "print('For values of best alpha = ', alpha[best_alpha], \"The test log loss is:\",log_loss(y_test, predict_y, labels=clf.classes_, eps=1e-15))\n"
   ]
  },
  {
   "cell_type": "markdown",
   "id": "ba987bdf",
   "metadata": {
    "id": "gO-gq3cFOQyB"
   },
   "source": [
    "<p style=\"font-size:18px;\"> <b>Q11.</b> Is the Variation feature stable across all the data sets (Test, Train, Cross validation)?</p>\n",
    "<p style=\"font-size:16px;\"> <b>Ans.</b> Not sure! But lets be very sure using the below analysis. </p>"
   ]
  },
  {
   "cell_type": "code",
   "execution_count": null,
   "id": "30547362",
   "metadata": {
    "colab": {
     "base_uri": "https://localhost:8080/"
    },
    "id": "pBZ5v2yBOQyB",
    "outputId": "506a3732-d081-4cf6-a057-ba6a445de341",
    "scrolled": true
   },
   "outputs": [
    {
     "name": "stdout",
     "output_type": "stream",
     "text": [
      "Q12. How many data points are covered by total  1924  genes in test and cross validation data sets?\n",
      "Ans\n",
      "1. In test data 66 out of 665 : 9.924812030075188\n",
      "2. In cross validation data 54 out of  532 : 10.150375939849624\n"
     ]
    }
   ],
   "source": [
    "print(\"Q12. How many data points are covered by total \", unique_variations.shape[0], \" genes in test and cross validation data sets?\")\n",
    "test_coverage=test_df[test_df['Variation'].isin(list(set(train_df['Variation'])))].shape[0]\n",
    "cv_coverage=cv_df[cv_df['Variation'].isin(list(set(train_df['Variation'])))].shape[0]\n",
    "print('Ans\\n1. In test data',test_coverage, 'out of',test_df.shape[0], \":\",(test_coverage/test_df.shape[0])*100)\n",
    "print('2. In cross validation data',cv_coverage, 'out of ',cv_df.shape[0],\":\" ,(cv_coverage/cv_df.shape[0])*100)"
   ]
  },
  {
   "cell_type": "markdown",
   "id": "171c1708",
   "metadata": {
    "id": "J87b3_pEOQyE"
   },
   "source": [
    "<h3>3.2.3 Univariate Analysis on Text Feature</h3>"
   ]
  },
  {
   "cell_type": "markdown",
   "id": "dd685730",
   "metadata": {
    "id": "Go1Lmf9tOQyF"
   },
   "source": []
  },
  {
   "cell_type": "code",
   "execution_count": null,
   "id": "df1cc2d5",
   "metadata": {
    "id": "xV59LrzTOQyF"
   },
   "outputs": [],
   "source": [
    "# cls_text is a data frame\n",
    "# for every row in data fram consider the 'TEXT'\n",
    "# split the words by space\n",
    "# make a dict with those words\n",
    "# increment its count whenever we see that word\n",
    "\n",
    "def extract_dictionary_paddle(cls_text):\n",
    "    dictionary = defaultdict(int)\n",
    "    for index, row in cls_text.iterrows():\n",
    "        for word in row['TEXT'].split():\n",
    "            dictionary[word] +=1\n",
    "    return dictionary"
   ]
  },
  {
   "cell_type": "code",
   "execution_count": null,
   "id": "14c1cc07",
   "metadata": {
    "id": "p8Y15a_1OQyH"
   },
   "outputs": [],
   "source": [
    "import math\n",
    "#https://stackoverflow.com/a/1602964\n",
    "def get_text_responsecoding(df):\n",
    "    text_feature_responseCoding = np.zeros((df.shape[0],9))\n",
    "    for i in range(0,9):\n",
    "        row_index = 0\n",
    "        for index, row in df.iterrows():\n",
    "            sum_prob = 0\n",
    "            for word in row['TEXT'].split():\n",
    "                sum_prob += math.log(((dict_list[i].get(word,0)+10 )/(total_dict.get(word,0)+90)))\n",
    "            text_feature_responseCoding[row_index][i] = math.exp(sum_prob/len(row['TEXT'].split()))\n",
    "            row_index += 1\n",
    "    return text_feature_responseCoding"
   ]
  },
  {
   "cell_type": "code",
   "execution_count": null,
   "id": "d895b610",
   "metadata": {
    "colab": {
     "base_uri": "https://localhost:8080/"
    },
    "id": "FnAaW3teOQyL",
    "outputId": "de0540d6-7f88-4a27-c451-6950c5785a3d"
   },
   "outputs": [
    {
     "name": "stdout",
     "output_type": "stream",
     "text": [
      "Total number of unique words in train data : 54084\n"
     ]
    }
   ],
   "source": [
    "# building a CountVectorizer with all the words that occured minimum 3 times in train data\n",
    "text_vectorizer = CountVectorizer(min_df=3)\n",
    "train_text_feature_onehotCoding = text_vectorizer.fit_transform(train_df['TEXT'])\n",
    "# getting all the feature names (words)\n",
    "train_text_features= text_vectorizer.get_feature_names()\n",
    "\n",
    "# train_text_feature_onehotCoding.sum(axis=0).A1 will sum every row and returns (1*number of features) vector\n",
    "train_text_fea_counts = train_text_feature_onehotCoding.sum(axis=0).A1\n",
    "\n",
    "# zip(list(text_features),text_fea_counts) will zip a word with its number of times it occured\n",
    "text_fea_dict = dict(zip(list(train_text_features),train_text_fea_counts))\n",
    "\n",
    "\n",
    "print(\"Total number of unique words in train data :\", len(train_text_features))"
   ]
  },
  {
   "cell_type": "code",
   "execution_count": null,
   "id": "2dda70fb",
   "metadata": {
    "id": "PcrtNp5agc3x"
   },
   "outputs": [],
   "source": [
    "import pickle\n",
    "filename='/content/drive/MyDrive/onehottext.pkl'\n",
    "pickle.dump(text_vectorizer, open(filename, 'wb'))"
   ]
  },
  {
   "cell_type": "code",
   "execution_count": null,
   "id": "4d90d28b",
   "metadata": {
    "colab": {
     "base_uri": "https://localhost:8080/"
    },
    "id": "0O2j2xpdkkMj",
    "outputId": "600e43d6-9dbc-424f-ef49-3f633cb85c91"
   },
   "outputs": [
    {
     "data": {
      "text/plain": [
       "['tgpycpy',\n",
       " 'tgs',\n",
       " 'tgs55',\n",
       " 'tgt',\n",
       " 'tgt3tat',\n",
       " 'tgtaaaacgacggccagt',\n",
       " 'tgtattcacagagacttggc',\n",
       " 'tgtcaaagatgctctcaggagc',\n",
       " 'tgtcaaatacttacttggcagagg',\n",
       " 'tgtg',\n",
       " 'tgtgaacatcattcaaggcgtac',\n",
       " 'tgtggagatgagcagggtct',\n",
       " 'tgtggttaaaggaaacgtgagta',\n",
       " 'tgtggttaacggaag',\n",
       " 'tgttccgaatgtctgaggac',\n",
       " 'tgttcctctagaattcatccaaggggggccct',\n",
       " 'tgttcgttgtagggactgct',\n",
       " 'tgx',\n",
       " 'tgx221',\n",
       " 'th',\n",
       " 'th1',\n",
       " 'th17',\n",
       " 'th2',\n",
       " 'thada',\n",
       " 'thai',\n",
       " 'thailand',\n",
       " 'thakur',\n",
       " 'thalamic',\n",
       " 'thalamus',\n",
       " 'thalassaemia',\n",
       " 'thalassemia',\n",
       " 'thaliana',\n",
       " 'thalidomide',\n",
       " 'thana',\n",
       " 'thanatophoric',\n",
       " 'thanf',\n",
       " 'thangue',\n",
       " 'thank',\n",
       " 'thankitexon',\n",
       " 'thanks',\n",
       " 'tharp',\n",
       " 'thatbinding',\n",
       " 'thatcher',\n",
       " 'thatsmad4mutations',\n",
       " 'thaw',\n",
       " 'thawani',\n",
       " 'thawed',\n",
       " 'thawing',\n",
       " 'thbs1',\n",
       " 'thbs2',\n",
       " 'thc',\n",
       " 'thc2316750',\n",
       " 'thd',\n",
       " 'the32p',\n",
       " 'theapc',\n",
       " 'theatre',\n",
       " 'thebbsi',\n",
       " 'thec',\n",
       " 'thecorresponding',\n",
       " 'theecori',\n",
       " 'thefollowing',\n",
       " 'thefrequency',\n",
       " 'thefunctions',\n",
       " 'thein',\n",
       " 'thelancet',\n",
       " 'themann',\n",
       " 'theme',\n",
       " 'themedian',\n",
       " 'themes',\n",
       " 'themll',\n",
       " 'themolecularmechanisms',\n",
       " 'themost',\n",
       " 'themutant',\n",
       " 'theodor',\n",
       " 'theorell',\n",
       " 'theoretical',\n",
       " 'theoretically',\n",
       " 'theories',\n",
       " 'theory',\n",
       " 'theou',\n",
       " 'thepatients',\n",
       " 'thepresence',\n",
       " 'ther',\n",
       " 'therapeutic',\n",
       " 'therapeutical',\n",
       " 'therapeutically',\n",
       " 'therapeutics',\n",
       " 'therapeutisc',\n",
       " 'therapies',\n",
       " 'therapies37',\n",
       " 'therapies43',\n",
       " 'therapy',\n",
       " 'therapy1',\n",
       " 'therapy10',\n",
       " 'therapy18',\n",
       " 'therapy23',\n",
       " 'therapy254',\n",
       " 'therapy3',\n",
       " 'therapy30',\n",
       " 'therapy37',\n",
       " 'therapy38',\n",
       " 'therapy39',\n",
       " 'therapy4',\n",
       " 'therapy58',\n",
       " 'therapy6',\n",
       " 'therapy7',\n",
       " 'therapybased',\n",
       " 'therascreen',\n",
       " 'therascreen29',\n",
       " 'therasse',\n",
       " 'thereafter',\n",
       " 'thereafter29',\n",
       " 'thereby',\n",
       " 'therefore',\n",
       " 'thereforeview',\n",
       " 'therein',\n",
       " 'thereof',\n",
       " 'theright',\n",
       " 'thermal',\n",
       " 'thermalization',\n",
       " 'thermally',\n",
       " 'thermo',\n",
       " 'thermocontroller',\n",
       " 'thermocycle',\n",
       " 'thermocycler',\n",
       " 'thermocycling',\n",
       " 'thermodenaturation',\n",
       " 'thermodynamic',\n",
       " 'thermodynamically',\n",
       " 'thermodynamics',\n",
       " 'thermoelectrically',\n",
       " 'thermofinnigan',\n",
       " 'thermofisher',\n",
       " 'thermograms',\n",
       " 'thermomax',\n",
       " 'thermophilic',\n",
       " 'thermophoresis',\n",
       " 'thermoplasma',\n",
       " 'thermoscientific',\n",
       " 'thermoscript',\n",
       " 'thermosequenase',\n",
       " 'thermosequence',\n",
       " 'thermostability',\n",
       " 'thermostable',\n",
       " 'thermostated',\n",
       " 'thermus',\n",
       " 'thesame',\n",
       " 'theses',\n",
       " 'thesis',\n",
       " 'theta',\n",
       " 'thev597a',\n",
       " 'thewild',\n",
       " 'thi',\n",
       " 'thiazolidinedione',\n",
       " 'thiazolyl',\n",
       " 'thibodeau',\n",
       " 'thick',\n",
       " 'thickened',\n",
       " 'thickening',\n",
       " 'thicker',\n",
       " 'thickness',\n",
       " 'thiede',\n",
       " 'thiel',\n",
       " 'thien',\n",
       " 'thienodiazepine',\n",
       " 'thiery',\n",
       " 'thigh',\n",
       " 'thighs',\n",
       " 'thimerosal',\n",
       " 'thimmulappa',\n",
       " 'thin',\n",
       " 'thing',\n",
       " 'things',\n",
       " 'think',\n",
       " 'thinking',\n",
       " 'thinned',\n",
       " 'thinner',\n",
       " 'thinning',\n",
       " 'thinsp',\n",
       " 'thio',\n",
       " 'thiocyanate',\n",
       " 'thioester',\n",
       " 'thioesterase',\n",
       " 'thioether',\n",
       " 'thioflavin',\n",
       " 'thiogalactopyranoside',\n",
       " 'thiogalactose',\n",
       " 'thiogalactoside',\n",
       " 'thioguanine',\n",
       " 'thiol',\n",
       " 'thiols',\n",
       " 'thione',\n",
       " 'thioredoxin',\n",
       " 'thiosulfate',\n",
       " 'thiotriphos',\n",
       " 'third',\n",
       " 'thirdgeneration',\n",
       " 'thirdly',\n",
       " 'thirds',\n",
       " 'thirteen',\n",
       " 'thirteenth',\n",
       " 'thirty',\n",
       " 'thisminimal',\n",
       " 'thods',\n",
       " 'thol',\n",
       " 'thoma',\n",
       " 'thomas',\n",
       " 'thome',\n",
       " 'thompson',\n",
       " 'thoms',\n",
       " 'thomson',\n",
       " 'thor',\n",
       " 'thorac',\n",
       " 'thoracentesis',\n",
       " 'thoracic',\n",
       " 'thoracopulmonary',\n",
       " 'thoracoscopic',\n",
       " 'thorax',\n",
       " 'thorn',\n",
       " 'thornwood',\n",
       " 'thorough',\n",
       " 'thoroughly',\n",
       " 'thorvaldsd',\n",
       " 'though',\n",
       " 'thought',\n",
       " 'thousand',\n",
       " 'thousands',\n",
       " 'thp',\n",
       " 'thpo',\n",
       " 'thr',\n",
       " 'thr1151',\n",
       " 'thr172',\n",
       " 'thr18',\n",
       " 'thr180',\n",
       " 'thr183',\n",
       " 'thr195pro',\n",
       " 'thr19asn',\n",
       " 'thr202',\n",
       " 'thr24',\n",
       " 'thr241arg',\n",
       " 'thr241pro',\n",
       " 'thr246',\n",
       " 'thr2484',\n",
       " 'thr2722arg',\n",
       " 'thr292',\n",
       " 'thr303',\n",
       " 'thr308',\n",
       " 'thr309',\n",
       " 'thr315',\n",
       " 'thr32',\n",
       " 'thr328',\n",
       " 'thr336',\n",
       " 'thr346',\n",
       " 'thr35',\n",
       " 'thr359',\n",
       " 'thr366',\n",
       " 'thr37',\n",
       " 'thr383',\n",
       " 'thr389',\n",
       " 'thr41',\n",
       " 'thr417',\n",
       " 'thr417ile',\n",
       " 'thr417tyr418asp419',\n",
       " 'thr432',\n",
       " 'thr4511ile',\n",
       " 'thr488',\n",
       " 'thr491',\n",
       " 'thr495asnfs',\n",
       " 'thr50',\n",
       " 'thr508',\n",
       " 'thr528',\n",
       " 'thr58',\n",
       " 'thr598',\n",
       " 'thr599',\n",
       " 'thr599arg',\n",
       " 'thr648',\n",
       " 'thr670',\n",
       " 'thr670ile',\n",
       " 'thr68',\n",
       " 'thr751',\n",
       " 'thr77',\n",
       " 'thr77pro',\n",
       " 'thr77thr',\n",
       " 'thr785',\n",
       " 'thr790',\n",
       " 'thr790met',\n",
       " 'thr791',\n",
       " 'thr95asn',\n",
       " 'thra1',\n",
       " 'thread',\n",
       " 'threaded',\n",
       " 'threat',\n",
       " 'threatening',\n",
       " 'three',\n",
       " 'threedimensional',\n",
       " 'threefold',\n",
       " 'threekitexon',\n",
       " 'threo',\n",
       " 'threoninc',\n",
       " 'threonine',\n",
       " 'threonines',\n",
       " 'threshold',\n",
       " 'thresholded',\n",
       " 'thresholds',\n",
       " 'thrice',\n",
       " 'thrich',\n",
       " 'thrive',\n",
       " 'thrombin',\n",
       " 'thrombocythaemia',\n",
       " 'thrombocythemia',\n",
       " 'thrombocytopenia',\n",
       " 'thrombocytopenic',\n",
       " 'thrombocytosis',\n",
       " 'thromboplastin',\n",
       " 'thrombopoiesis',\n",
       " 'thrombopoietin',\n",
       " 'thrombosis',\n",
       " 'thrombospondin',\n",
       " 'thrombotic',\n",
       " 'thrombus',\n",
       " 'throughout',\n",
       " 'throughput',\n",
       " 'thukral',\n",
       " 'thumb',\n",
       " 'thumbnail',\n",
       " 'thumbs',\n",
       " 'thurber',\n",
       " 'thurman',\n",
       " 'thus',\n",
       " 'thusberg',\n",
       " 'thwart',\n",
       " 'thwarted',\n",
       " 'thy',\n",
       " 'thy1',\n",
       " 'thymi',\n",
       " 'thymic',\n",
       " 'thymidine',\n",
       " 'thymine',\n",
       " 'thymines',\n",
       " 'thymocyte',\n",
       " 'thymocytes',\n",
       " 'thymocytes21',\n",
       " 'thymocytic',\n",
       " 'thymoma',\n",
       " 'thymomas',\n",
       " 'thymus',\n",
       " 'thyrnidine',\n",
       " 'thyroglobulin',\n",
       " 'thyroid',\n",
       " 'thyroidectomy',\n",
       " 'thyroiditis',\n",
       " 'thyrotropin',\n",
       " 'ti',\n",
       " 'ti45',\n",
       " 'tia1',\n",
       " 'tiacci',\n",
       " 'tiainen',\n",
       " 'tially',\n",
       " 'tiam1',\n",
       " 'tian',\n",
       " 'tiangen',\n",
       " 'tibbetts',\n",
       " 'tibco',\n",
       " 'tibia',\n",
       " 'tibiae',\n",
       " 'tibial',\n",
       " 'tibias',\n",
       " 'tibs',\n",
       " 'tibshirani',\n",
       " 'tic',\n",
       " 'tice',\n",
       " 'tics',\n",
       " 'tide',\n",
       " 'tidyman',\n",
       " 'tie',\n",
       " 'tie1',\n",
       " 'tie2',\n",
       " 'tied',\n",
       " 'tiedie',\n",
       " 'tien',\n",
       " 'tients',\n",
       " 'tier',\n",
       " 'tiered',\n",
       " 'tiers',\n",
       " 'ties',\n",
       " 'tif',\n",
       " 'tif1',\n",
       " 'tif2',\n",
       " 'tiff',\n",
       " 'tifies',\n",
       " 'tig',\n",
       " 'tight',\n",
       " 'tightened',\n",
       " 'tightening',\n",
       " 'tighter',\n",
       " 'tightly',\n",
       " 'tigr',\n",
       " 'tiitle',\n",
       " 'tikhomirov',\n",
       " 'tikhonenko',\n",
       " 'tikoo',\n",
       " 'til',\n",
       " 'tiled',\n",
       " 'tiling',\n",
       " 'till',\n",
       " 'tilley',\n",
       " 'tilt50',\n",
       " 'tilted',\n",
       " 'tim',\n",
       " 'time',\n",
       " 'timecourse',\n",
       " 'timed',\n",
       " 'timeframe',\n",
       " 'timeline',\n",
       " 'timelines',\n",
       " 'timely',\n",
       " 'timepoint',\n",
       " 'timepoints',\n",
       " 'times',\n",
       " 'timescale',\n",
       " 'timescales',\n",
       " 'timing',\n",
       " 'timmerman',\n",
       " 'timmers',\n",
       " 'timp',\n",
       " 'tin',\n",
       " 'tina',\n",
       " 'tindall',\n",
       " 'ting',\n",
       " 'tingible',\n",
       " 'tinib',\n",
       " 'tinnitus',\n",
       " 'tiny',\n",
       " 'tion',\n",
       " 'tional',\n",
       " 'tionally',\n",
       " 'tions',\n",
       " 'tip',\n",
       " 'tip3',\n",
       " 'tip3p',\n",
       " 'tip60',\n",
       " 'tips',\n",
       " 'tique',\n",
       " 'tir',\n",
       " 'tirado',\n",
       " 'tirf',\n",
       " 'tirucalli',\n",
       " 'tis',\n",
       " 'tis11d',\n",
       " 'tisch',\n",
       " 'tischler',\n",
       " 'tissue',\n",
       " 'tissue2',\n",
       " 'tissue44',\n",
       " 'tissuelyser',\n",
       " 'tissues',\n",
       " 'tissues4',\n",
       " 'tissues40',\n",
       " 'tissues8',\n",
       " 'tissuetek',\n",
       " 'titanium',\n",
       " 'titer',\n",
       " 'titered',\n",
       " 'titers',\n",
       " 'titin',\n",
       " 'title',\n",
       " 'titled',\n",
       " 'titrate',\n",
       " 'titrated',\n",
       " 'titrating',\n",
       " 'titration',\n",
       " 'titrations',\n",
       " 'titre',\n",
       " 'titres',\n",
       " 'tive',\n",
       " 'tively',\n",
       " 'tivs',\n",
       " 'tj',\n",
       " 'tk',\n",
       " 'tk1',\n",
       " 'tk2',\n",
       " 'tk6',\n",
       " 'tkb',\n",
       " 'tkbd',\n",
       " 'tkc',\n",
       " 'tkd',\n",
       " 'tkd1',\n",
       " 'tkds',\n",
       " 'tki',\n",
       " 'tki1',\n",
       " 'tki258',\n",
       " 'tkina',\n",
       " 'tkis',\n",
       " 'tkis5',\n",
       " 'tko',\n",
       " 'tks',\n",
       " 'tkt',\n",
       " 'tkts',\n",
       " 'tl',\n",
       " 'tlc',\n",
       " 'tle',\n",
       " 'tle1',\n",
       " 'tlr',\n",
       " 'tlr2',\n",
       " 'tlr4',\n",
       " 'tlr9',\n",
       " 'tlrs',\n",
       " 'tls',\n",
       " 'tlvm',\n",
       " 'tlx',\n",
       " 'tlx1',\n",
       " 'tlx3',\n",
       " 'tm',\n",
       " 'tm1',\n",
       " 'tm2',\n",
       " 'tm3',\n",
       " 'tm4',\n",
       " 'tm5',\n",
       " 'tm6',\n",
       " 'tm7',\n",
       " 'tma',\n",
       " 'tmab',\n",
       " 'tmao',\n",
       " 'tmaqhae',\n",
       " 'tmas',\n",
       " 'tmax',\n",
       " 'tmb',\n",
       " 'tmd',\n",
       " 'tmd8',\n",
       " 'tmem127',\n",
       " 'tmem14c',\n",
       " 'tmem45a',\n",
       " 'tmem49',\n",
       " 'tmem90b',\n",
       " 'tment',\n",
       " 'tmlink',\n",
       " 'tmp3',\n",
       " 'tmprss2',\n",
       " 'tmpyp4',\n",
       " 'tmz',\n",
       " 'tn',\n",
       " 'tn4330',\n",
       " 'tn4430',\n",
       " 'tnbc',\n",
       " 'tnbcs',\n",
       " 'tne',\n",
       " 'tnf',\n",
       " 'tnfa',\n",
       " 'tnfafl',\n",
       " 'tnfaip3',\n",
       " 'tnfaip6',\n",
       " 'tnfdellqvyydaik',\n",
       " 'tnfr',\n",
       " 'tnfr1',\n",
       " 'tnfr2',\n",
       " 'tnfrsf10a',\n",
       " 'tnfrsf6',\n",
       " 'tni',\n",
       " 'tnk2',\n",
       " 'tnm',\n",
       " 'tnp',\n",
       " 'tnrc6a',\n",
       " 'tnrc6b',\n",
       " 'tnt',\n",
       " 'to0',\n",
       " 'to1',\n",
       " 'to158',\n",
       " 'to3',\n",
       " 'to3c',\n",
       " 'toad',\n",
       " 'tobacco',\n",
       " 'toby',\n",
       " 'tochigi',\n",
       " 'tochrome',\n",
       " 'tocris',\n",
       " 'today',\n",
       " 'todd',\n",
       " 'toe',\n",
       " 'toes',\n",
       " 'tof',\n",
       " 'tofacitinib',\n",
       " 'toft',\n",
       " 'together',\n",
       " 'toggle',\n",
       " 'tognon',\n",
       " 'tohoku',\n",
       " 'tohru',\n",
       " 'toimatinib',\n",
       " 'tokai',\n",
       " 'tokumo',\n",
       " 'tokyo',\n",
       " 'tol',\n",
       " 'toledo',\n",
       " 'tolerability',\n",
       " 'tolerable',\n",
       " 'tolerance',\n",
       " 'tolerant',\n",
       " 'tolerate',\n",
       " 'tolerated',\n",
       " 'tolerated68',\n",
       " 'tolerates',\n",
       " 'tolias',\n",
       " 'toll',\n",
       " 'tology',\n",
       " 'tolstykh',\n",
       " 'toluidine',\n",
       " 'tolysin',\n",
       " 'tom',\n",
       " 'toma',\n",
       " 'tomato',\n",
       " 'tomb',\n",
       " 'tominaga',\n",
       " 'tomita',\n",
       " 'tomizawa',\n",
       " 'tomlins',\n",
       " 'tomlinson',\n",
       " 'tomographic',\n",
       " 'tomography',\n",
       " 'tomtec',\n",
       " 'tona',\n",
       " 'tone',\n",
       " 'tonelli',\n",
       " 'tong',\n",
       " 'tongji',\n",
       " 'tongue',\n",
       " 'tonic',\n",
       " 'tonks',\n",
       " 'tonsil',\n",
       " 'tonsillar',\n",
       " 'tonsillectomy',\n",
       " 'tonsils',\n",
       " 'tonsils25',\n",
       " 'took',\n",
       " 'tool',\n",
       " 'tool33',\n",
       " 'toolkit',\n",
       " 'tools',\n",
       " 'tooth',\n",
       " 'top',\n",
       " 'top1',\n",
       " 'top10',\n",
       " 'top100',\n",
       " 'top2a',\n",
       " 'top2b',\n",
       " 'top3a',\n",
       " 'topalian',\n",
       " 'topbp1',\n",
       " 'topcount',\n",
       " 'tope',\n",
       " 'topflash',\n",
       " 'topgal',\n",
       " 'tophat',\n",
       " 'tophat2',\n",
       " 'tophkhane',\n",
       " 'topic',\n",
       " 'topical',\n",
       " 'topnotch',\n",
       " 'topo',\n",
       " 'topographic',\n",
       " 'topographical',\n",
       " 'topography',\n",
       " 'topoii',\n",
       " 'topoisomerase',\n",
       " 'topological',\n",
       " 'topologically',\n",
       " 'topologies',\n",
       " 'topology',\n",
       " 'topota',\n",
       " 'topotecan',\n",
       " 'topped',\n",
       " 'topro',\n",
       " 'tops',\n",
       " 'topsham',\n",
       " 'topto',\n",
       " 'tor',\n",
       " 'tor1',\n",
       " 'tor2',\n",
       " 'torc1',\n",
       " 'torc2',\n",
       " 'torchia',\n",
       " 'torin1',\n",
       " 'torino',\n",
       " 'torki',\n",
       " 'torki6',\n",
       " 'torkis',\n",
       " 'toroid',\n",
       " 'toronto',\n",
       " 'torrance',\n",
       " 'torre',\n",
       " 'torrecuadrada',\n",
       " 'torrent',\n",
       " 'torsion',\n",
       " 'torsional',\n",
       " 'torso',\n",
       " 'torsten',\n",
       " 'torus',\n",
       " 'tory',\n",
       " 'toschi',\n",
       " 'toshima',\n",
       " 'toshio',\n",
       " 'tosylate',\n",
       " 'tot',\n",
       " 'total',\n",
       " 'totalh3',\n",
       " 'totaling',\n",
       " 'totalled',\n",
       " 'totalling',\n",
       " 'totally',\n",
       " 'totalof',\n",
       " 'totals',\n",
       " 'tothe',\n",
       " 'toto',\n",
       " 'totoki',\n",
       " 'totype',\n",
       " 'touch',\n",
       " 'touchdown',\n",
       " 'tough',\n",
       " 'toulouse',\n",
       " 'tournier',\n",
       " 'touton',\n",
       " 'toward',\n",
       " 'towards',\n",
       " 'tower',\n",
       " 'town',\n",
       " 'townsend',\n",
       " 'tox',\n",
       " 'toxic',\n",
       " 'toxicants',\n",
       " 'toxicities',\n",
       " 'toxicity',\n",
       " 'toxico',\n",
       " 'toxicological',\n",
       " 'toxicology',\n",
       " 'toxilight',\n",
       " 'toxin',\n",
       " 'toxins',\n",
       " 'toyama',\n",
       " 'toyo',\n",
       " 'toyobo',\n",
       " 'toyoshima',\n",
       " 'tp',\n",
       " 'tp53',\n",
       " 'tp5342',\n",
       " 'tp539',\n",
       " 'tp53bp1',\n",
       " 'tp53i3',\n",
       " 'tp53inp1',\n",
       " 'tp53r172h',\n",
       " 'tp53r273h',\n",
       " 'tp53r337h',\n",
       " 'tp63',\n",
       " 'tp73',\n",
       " 'tpa',\n",
       " 'tpc',\n",
       " 'tpc1',\n",
       " 'tpdy307fl309',\n",
       " 'tpg',\n",
       " 'tpi',\n",
       " 'tpip',\n",
       " 'tpm',\n",
       " 'tpm1',\n",
       " 'tpm3',\n",
       " 'tpm4',\n",
       " 'tpo',\n",
       " 'tpor',\n",
       " 'tpp',\n",
       " 'tpr',\n",
       " 'tpresent',\n",
       " 'tpsctaytssfvftypeadsfpscaaah',\n",
       " 'tpte',\n",
       " 'tpwplssfvpsqk',\n",
       " 'tpx2',\n",
       " 'tpyegmpgh',\n",
       " 'tq',\n",
       " 'tqn',\n",
       " 'tr',\n",
       " 'tr1',\n",
       " 'tra',\n",
       " 'tra2',\n",
       " 'trabeculae',\n",
       " 'trabecular',\n",
       " 'trace',\n",
       " 'traced',\n",
       " 'tracer',\n",
       " 'traces',\n",
       " 'trachea',\n",
       " 'tracheal',\n",
       " 'tracheobronchial',\n",
       " 'tracheoesophageal',\n",
       " 'tracheostomy',\n",
       " 'tracing',\n",
       " 'tracings',\n",
       " 'track',\n",
       " 'tracked',\n",
       " 'tracking',\n",
       " 'tracks',\n",
       " 'tract',\n",
       " 'tractability',\n",
       " 'tractable',\n",
       " 'traction',\n",
       " 'tracts',\n",
       " 'tracy',\n",
       " 'trad',\n",
       " 'tradd',\n",
       " 'trade',\n",
       " 'tradeoff',\n",
       " 'tradeoffs',\n",
       " 'traditional',\n",
       " 'traditionally',\n",
       " 'traf',\n",
       " 'traf2',\n",
       " 'traf3',\n",
       " 'traf6',\n",
       " 'traffic',\n",
       " 'trafficked',\n",
       " 'trafficking',\n",
       " 'trafficking40',\n",
       " 'trahey',\n",
       " 'trail',\n",
       " 'train',\n",
       " 'trained',\n",
       " 'training',\n",
       " 'trait',\n",
       " 'traits',\n",
       " 'trajectories',\n",
       " 'trajectory',\n",
       " 'traktman',\n",
       " 'tram',\n",
       " 'trametinib',\n",
       " 'tramolecular',\n",
       " 'tramp',\n",
       " 'tramtrack',\n",
       " 'tran',\n",
       " 'tran35s',\n",
       " 'trancriptional',\n",
       " 'trans',\n",
       " 'transacting',\n",
       " 'transactivate',\n",
       " 'transactivated',\n",
       " 'transactivates',\n",
       " 'transactivating',\n",
       " 'transactivatioan',\n",
       " 'transactivation',\n",
       " 'transactivational',\n",
       " 'transactivator',\n",
       " 'transactivators',\n",
       " 'transactivity',\n",
       " 'transaldolase',\n",
       " 'transaminase',\n",
       " 'transaminases',\n",
       " 'transaminitis',\n",
       " 'transauthor',\n",
       " 'transbronchial',\n",
       " 'transcarbamylase',\n",
       " 'transciptional',\n",
       " 'transconjugant',\n",
       " 'transconjugants',\n",
       " 'transcribe',\n",
       " 'transcribed',\n",
       " 'transcribed2',\n",
       " 'transcribing',\n",
       " 'transcrip',\n",
       " 'transcript',\n",
       " 'transcriptase',\n",
       " 'transcriptase54',\n",
       " 'transcription',\n",
       " 'transcription18',\n",
       " 'transcription25',\n",
       " 'transcription30',\n",
       " 'transcription38',\n",
       " 'transcription39',\n",
       " 'transcription43',\n",
       " 'transcriptional',\n",
       " 'transcriptionally',\n",
       " 'transcriptions',\n",
       " 'transcriptomal',\n",
       " 'transcriptome',\n",
       " 'transcriptomes',\n",
       " 'transcriptomic',\n",
       " 'transcriptomics',\n",
       " 'transcriptor',\n",
       " 'transcripts',\n",
       " 'transcripts13',\n",
       " 'transcripts5',\n",
       " 'transcripts58',\n",
       " 'transdifferentiation',\n",
       " 'transdominant',\n",
       " 'transdu',\n",
       " 'transduc',\n",
       " 'transduce',\n",
       " 'transduced',\n",
       " 'transducer',\n",
       " 'transducers',\n",
       " 'transduces',\n",
       " 'transducin',\n",
       " 'transducing',\n",
       " 'transductant',\n",
       " 'transductants',\n",
       " 'transducting',\n",
       " 'transduction',\n",
       " 'transductions',\n",
       " 'transesterification',\n",
       " 'transfac',\n",
       " 'transfast',\n",
       " 'transfect',\n",
       " 'transfectability',\n",
       " 'transfectable',\n",
       " 'transfectant',\n",
       " 'transfectants',\n",
       " 'transfectantsas',\n",
       " 'transfected',\n",
       " 'transfecting',\n",
       " 'transfection',\n",
       " 'transfections',\n",
       " 'transfer',\n",
       " 'transferase',\n",
       " 'transferases',\n",
       " 'transfered',\n",
       " 'transferred',\n",
       " 'transferrin',\n",
       " 'transferring',\n",
       " 'transfers',\n",
       " 'transfomation',\n",
       " 'transfor',\n",
       " 'transform',\n",
       " 'transforma',\n",
       " 'transformability',\n",
       " 'transformant',\n",
       " 'transformants',\n",
       " 'transformation',\n",
       " 'transformation100',\n",
       " 'transformation16',\n",
       " 'transformation198',\n",
       " 'transformation53',\n",
       " 'transformation78',\n",
       " 'transformation94',\n",
       " 'transformation95',\n",
       " 'transformations',\n",
       " 'transformative',\n",
       " 'transformed',\n",
       " 'transformer',\n",
       " 'transformers',\n",
       " 'transforming',\n",
       " 'transformingactivityofthe',\n",
       " 'transforms',\n",
       " 'transfusion',\n",
       " 'transfusions',\n",
       " 'transgen',\n",
       " 'transgene',\n",
       " 'transgenes',\n",
       " 'transgenesis',\n",
       " 'transgenic',\n",
       " 'transgenics',\n",
       " 'transgenomic',\n",
       " 'transgenomics',\n",
       " 'transhydrogenase',\n",
       " 'transient',\n",
       " 'transiently',\n",
       " 'transillumination',\n",
       " 'transilluminator',\n",
       " 'transit',\n",
       " 'transited',\n",
       " 'transition',\n",
       " 'transition15',\n",
       " 'transition21',\n",
       " 'transitional',\n",
       " 'transitioning',\n",
       " 'transitions',\n",
       " 'transits',\n",
       " 'transketolase',\n",
       " 'transl',\n",
       " 'translatable',\n",
       " 'translate',\n",
       " 'translated',\n",
       " 'translates',\n",
       " 'translating',\n",
       " 'translation',\n",
       " 'translation12',\n",
       " 'translation206',\n",
       " 'translation27',\n",
       " 'translation48',\n",
       " 'translational',\n",
       " 'translationally',\n",
       " 'translations',\n",
       " 'translationt',\n",
       " 'translesion',\n",
       " 'translesional',\n",
       " 'translocate',\n",
       " 'translocated',\n",
       " 'translocates',\n",
       " 'translocating',\n",
       " 'translocation',\n",
       " 'translocation20',\n",
       " 'translocation4',\n",
       " 'translocations',\n",
       " 'translocations4',\n",
       " 'translocations43',\n",
       " 'translocations49',\n",
       " 'translocations6',\n",
       " 'transmembrane',\n",
       " ...]"
      ]
     },
     "execution_count": 116,
     "metadata": {
      "tags": []
     },
     "output_type": "execute_result"
    }
   ],
   "source": [
    "list(text_vectorizer.get_feature_names())[-5000:]"
   ]
  },
  {
   "cell_type": "code",
   "execution_count": null,
   "id": "cd149087",
   "metadata": {
    "id": "lO_CtltnOQyR"
   },
   "outputs": [],
   "source": [
    "dict_list = []\n",
    "# dict_list =[] contains 9 dictoinaries each corresponds to a class\n",
    "for i in range(1,10):\n",
    "    cls_text = train_df[train_df['Class']==i]\n",
    "    # build a word dict based on the words in that class\n",
    "    dict_list.append(extract_dictionary_paddle(cls_text))\n",
    "    # append it to dict_list\n",
    "\n",
    "# dict_list[i] is build on i'th  class text data\n",
    "# total_dict is buid on whole training text data\n",
    "total_dict = extract_dictionary_paddle(train_df)\n",
    "\n",
    "\n",
    "confuse_array = []\n",
    "for i in train_text_features:\n",
    "    ratios = []\n",
    "    max_val = -1\n",
    "    for j in range(0,9):\n",
    "        ratios.append((dict_list[j][i]+10 )/(total_dict[i]+90))\n",
    "    confuse_array.append(ratios)\n",
    "confuse_array = np.array(confuse_array)"
   ]
  },
  {
   "cell_type": "code",
   "execution_count": null,
   "id": "60650834",
   "metadata": {
    "id": "uaI8RUu0OQyU"
   },
   "outputs": [],
   "source": [
    "#response coding of text features\n",
    "train_text_feature_responseCoding  = get_text_responsecoding(train_df)\n",
    "test_text_feature_responseCoding  = get_text_responsecoding(test_df)\n",
    "cv_text_feature_responseCoding  = get_text_responsecoding(cv_df)"
   ]
  },
  {
   "cell_type": "code",
   "execution_count": null,
   "id": "5224a6a1",
   "metadata": {
    "id": "ZYqYSUjoOQyV"
   },
   "outputs": [],
   "source": [
    "# https://stackoverflow.com/a/16202486\n",
    "# we convert each row values such that they sum to 1  \n",
    "train_text_feature_responseCoding = (train_text_feature_responseCoding.T/train_text_feature_responseCoding.sum(axis=1)).T\n",
    "test_text_feature_responseCoding = (test_text_feature_responseCoding.T/test_text_feature_responseCoding.sum(axis=1)).T\n",
    "cv_text_feature_responseCoding = (cv_text_feature_responseCoding.T/cv_text_feature_responseCoding.sum(axis=1)).T"
   ]
  },
  {
   "cell_type": "code",
   "execution_count": null,
   "id": "59bda996",
   "metadata": {
    "id": "3UEk7cxGOQyX"
   },
   "outputs": [],
   "source": [
    "# don't forget to normalize every feature\n",
    "train_text_feature_onehotCoding = normalize(train_text_feature_onehotCoding, axis=0)\n",
    "\n",
    "# we use the same vectorizer that was trained on train data\n",
    "test_text_feature_onehotCoding = text_vectorizer.transform(test_df['TEXT'])\n",
    "# don't forget to normalize every feature\n",
    "test_text_feature_onehotCoding = normalize(test_text_feature_onehotCoding, axis=0)\n",
    "\n",
    "# we use the same vectorizer that was trained on train data\n",
    "cv_text_feature_onehotCoding = text_vectorizer.transform(cv_df['TEXT'])\n",
    "# don't forget to normalize every feature\n",
    "cv_text_feature_onehotCoding = normalize(cv_text_feature_onehotCoding, axis=0)"
   ]
  },
  {
   "cell_type": "code",
   "execution_count": null,
   "id": "250f07b1",
   "metadata": {
    "id": "Ox21AjDkOQyZ"
   },
   "outputs": [],
   "source": [
    "#https://stackoverflow.com/a/2258273/4084039\n",
    "sorted_text_fea_dict = dict(sorted(text_fea_dict.items(), key=lambda x: x[1] , reverse=True))\n",
    "sorted_text_occur = np.array(list(sorted_text_fea_dict.values()))"
   ]
  },
  {
   "cell_type": "code",
   "execution_count": null,
   "id": "0c8e153a",
   "metadata": {
    "colab": {
     "base_uri": "https://localhost:8080/"
    },
    "id": "gT0OrfaTOQyb",
    "outputId": "1cd8ed65-cbba-47e0-c29f-5470b7344fe6"
   },
   "outputs": [
    {
     "name": "stdout",
     "output_type": "stream",
     "text": [
      "Counter({3: 5867, 4: 3783, 6: 3076, 5: 2692, 8: 2213, 7: 2205, 9: 1799, 12: 1234, 10: 1225, 13: 995, 14: 948, 15: 944, 11: 912, 16: 878, 18: 830, 17: 595, 19: 548, 20: 535, 21: 520, 24: 517, 22: 496, 26: 407, 30: 395, 27: 385, 45: 373, 25: 363, 23: 361, 28: 359, 29: 317, 36: 294, 47: 264, 32: 252, 31: 252, 33: 247, 34: 245, 40: 234, 35: 230, 38: 226, 39: 222, 42: 209, 48: 199, 41: 197, 37: 175, 54: 170, 46: 166, 43: 161, 51: 154, 50: 152, 44: 150, 59: 147, 56: 145, 52: 144, 60: 134, 57: 133, 53: 133, 49: 132, 55: 128, 61: 124, 58: 119, 62: 111, 72: 109, 76: 107, 64: 107, 68: 104, 66: 104, 63: 102, 70: 101, 67: 100, 77: 98, 65: 92, 84: 85, 80: 81, 71: 80, 69: 80, 78: 79, 82: 78, 73: 78, 94: 77, 99: 76, 79: 76, 114: 75, 88: 75, 74: 74, 87: 72, 91: 71, 92: 70, 75: 70, 90: 67, 86: 67, 85: 67, 81: 67, 83: 65, 102: 63, 97: 62, 108: 59, 98: 59, 95: 59, 96: 57, 103: 55, 113: 54, 89: 54, 125: 52, 109: 51, 115: 50, 105: 49, 100: 49, 104: 48, 93: 48, 101: 46, 124: 45, 112: 45, 106: 45, 138: 44, 126: 44, 120: 44, 118: 44, 144: 43, 121: 43, 152: 42, 141: 42, 110: 42, 117: 41, 122: 40, 132: 39, 130: 39, 134: 38, 128: 36, 116: 36, 111: 36, 107: 36, 140: 35, 159: 34, 157: 34, 142: 34, 133: 34, 119: 34, 155: 33, 143: 33, 137: 33, 136: 33, 150: 32, 135: 32, 127: 32, 123: 32, 147: 31, 179: 30, 131: 30, 172: 29, 168: 29, 151: 29, 129: 29, 190: 28, 175: 28, 160: 28, 153: 28, 198: 27, 154: 27, 139: 27, 185: 26, 174: 26, 148: 26, 230: 25, 180: 25, 165: 25, 162: 25, 149: 25, 146: 25, 145: 25, 217: 24, 211: 24, 235: 23, 194: 23, 177: 23, 166: 23, 163: 23, 237: 22, 221: 22, 207: 22, 203: 22, 199: 22, 197: 22, 193: 22, 156: 22, 236: 21, 210: 21, 206: 21, 204: 21, 192: 21, 188: 21, 183: 21, 182: 21, 176: 21, 169: 21, 161: 21, 313: 20, 219: 20, 218: 20, 214: 20, 164: 20, 250: 19, 213: 19, 191: 19, 173: 19, 170: 19, 278: 18, 266: 18, 247: 18, 240: 18, 239: 18, 231: 18, 229: 18, 228: 18, 222: 18, 209: 18, 200: 18, 195: 18, 187: 18, 181: 18, 178: 18, 259: 17, 254: 17, 249: 17, 246: 17, 243: 17, 241: 17, 234: 17, 226: 17, 224: 17, 208: 17, 205: 17, 201: 17, 186: 17, 171: 17, 167: 17, 345: 16, 277: 16, 271: 16, 268: 16, 263: 16, 245: 16, 215: 16, 189: 16, 298: 15, 296: 15, 291: 15, 287: 15, 233: 15, 227: 15, 225: 15, 216: 15, 196: 15, 158: 15, 332: 14, 319: 14, 305: 14, 292: 14, 288: 14, 283: 14, 282: 14, 273: 14, 258: 14, 253: 14, 220: 14, 202: 14, 184: 14, 358: 13, 347: 13, 346: 13, 344: 13, 320: 13, 281: 13, 269: 13, 265: 13, 264: 13, 262: 13, 261: 13, 260: 13, 255: 13, 364: 12, 309: 12, 297: 12, 295: 12, 294: 12, 285: 12, 280: 12, 279: 12, 276: 12, 275: 12, 272: 12, 267: 12, 252: 12, 251: 12, 238: 12, 212: 12, 453: 11, 424: 11, 395: 11, 393: 11, 366: 11, 342: 11, 321: 11, 301: 11, 300: 11, 290: 11, 284: 11, 223: 11, 461: 10, 406: 10, 401: 10, 390: 10, 365: 10, 341: 10, 340: 10, 338: 10, 335: 10, 334: 10, 324: 10, 323: 10, 306: 10, 304: 10, 299: 10, 293: 10, 289: 10, 270: 10, 257: 10, 248: 10, 232: 10, 657: 9, 514: 9, 441: 9, 417: 9, 410: 9, 408: 9, 400: 9, 388: 9, 374: 9, 371: 9, 367: 9, 354: 9, 352: 9, 330: 9, 325: 9, 311: 9, 302: 9, 242: 9, 598: 8, 596: 8, 576: 8, 573: 8, 526: 8, 521: 8, 505: 8, 498: 8, 489: 8, 473: 8, 466: 8, 464: 8, 462: 8, 446: 8, 443: 8, 439: 8, 430: 8, 413: 8, 412: 8, 397: 8, 391: 8, 387: 8, 382: 8, 379: 8, 372: 8, 370: 8, 353: 8, 339: 8, 337: 8, 331: 8, 329: 8, 328: 8, 327: 8, 326: 8, 316: 8, 314: 8, 312: 8, 308: 8, 274: 8, 256: 8, 885: 7, 730: 7, 554: 7, 553: 7, 533: 7, 517: 7, 510: 7, 488: 7, 481: 7, 480: 7, 472: 7, 454: 7, 435: 7, 407: 7, 385: 7, 383: 7, 381: 7, 378: 7, 377: 7, 376: 7, 368: 7, 360: 7, 355: 7, 348: 7, 343: 7, 317: 7, 310: 7, 303: 7, 286: 7, 1396: 6, 1238: 6, 986: 6, 931: 6, 924: 6, 871: 6, 797: 6, 767: 6, 757: 6, 738: 6, 733: 6, 720: 6, 709: 6, 669: 6, 643: 6, 641: 6, 640: 6, 635: 6, 626: 6, 611: 6, 583: 6, 571: 6, 560: 6, 549: 6, 536: 6, 535: 6, 528: 6, 520: 6, 513: 6, 508: 6, 504: 6, 503: 6, 502: 6, 496: 6, 490: 6, 476: 6, 475: 6, 471: 6, 456: 6, 452: 6, 449: 6, 442: 6, 437: 6, 428: 6, 427: 6, 426: 6, 418: 6, 416: 6, 411: 6, 399: 6, 375: 6, 362: 6, 356: 6, 350: 6, 336: 6, 315: 6, 244: 6, 2004: 5, 1603: 5, 1505: 5, 1125: 5, 999: 5, 989: 5, 975: 5, 860: 5, 844: 5, 833: 5, 822: 5, 796: 5, 793: 5, 782: 5, 762: 5, 729: 5, 724: 5, 677: 5, 675: 5, 654: 5, 639: 5, 638: 5, 624: 5, 623: 5, 622: 5, 621: 5, 619: 5, 615: 5, 602: 5, 589: 5, 588: 5, 585: 5, 581: 5, 580: 5, 577: 5, 567: 5, 564: 5, 562: 5, 561: 5, 559: 5, 557: 5, 550: 5, 544: 5, 543: 5, 538: 5, 527: 5, 511: 5, 501: 5, 494: 5, 491: 5, 478: 5, 477: 5, 468: 5, 460: 5, 450: 5, 445: 5, 440: 5, 432: 5, 423: 5, 419: 5, 414: 5, 396: 5, 394: 5, 380: 5, 363: 5, 359: 5, 357: 5, 349: 5, 333: 5, 322: 5, 307: 5, 1853: 4, 1627: 4, 1405: 4, 1381: 4, 1355: 4, 1324: 4, 1312: 4, 1290: 4, 1257: 4, 1214: 4, 1189: 4, 1165: 4, 1137: 4, 1096: 4, 1092: 4, 1049: 4, 1044: 4, 1042: 4, 1039: 4, 1003: 4, 1002: 4, 993: 4, 984: 4, 966: 4, 948: 4, 945: 4, 938: 4, 926: 4, 922: 4, 891: 4, 862: 4, 859: 4, 857: 4, 848: 4, 846: 4, 845: 4, 827: 4, 820: 4, 817: 4, 813: 4, 806: 4, 802: 4, 791: 4, 790: 4, 785: 4, 780: 4, 778: 4, 772: 4, 759: 4, 750: 4, 747: 4, 726: 4, 723: 4, 721: 4, 718: 4, 714: 4, 695: 4, 691: 4, 688: 4, 686: 4, 685: 4, 681: 4, 678: 4, 676: 4, 670: 4, 649: 4, 648: 4, 632: 4, 631: 4, 620: 4, 614: 4, 612: 4, 603: 4, 601: 4, 595: 4, 592: 4, 586: 4, 575: 4, 574: 4, 572: 4, 563: 4, 555: 4, 552: 4, 551: 4, 548: 4, 541: 4, 532: 4, 530: 4, 509: 4, 507: 4, 497: 4, 486: 4, 485: 4, 483: 4, 482: 4, 474: 4, 467: 4, 459: 4, 455: 4, 451: 4, 448: 4, 447: 4, 444: 4, 436: 4, 433: 4, 431: 4, 425: 4, 421: 4, 420: 4, 405: 4, 404: 4, 403: 4, 402: 4, 369: 4, 361: 4, 351: 4, 3461: 3, 2871: 3, 2497: 3, 2393: 3, 2318: 3, 2306: 3, 2263: 3, 2205: 3, 2114: 3, 2013: 3, 1943: 3, 1913: 3, 1859: 3, 1806: 3, 1765: 3, 1754: 3, 1732: 3, 1726: 3, 1619: 3, 1610: 3, 1576: 3, 1574: 3, 1536: 3, 1533: 3, 1500: 3, 1491: 3, 1489: 3, 1468: 3, 1461: 3, 1426: 3, 1411: 3, 1406: 3, 1368: 3, 1361: 3, 1352: 3, 1315: 3, 1313: 3, 1304: 3, 1302: 3, 1301: 3, 1291: 3, 1275: 3, 1268: 3, 1266: 3, 1209: 3, 1202: 3, 1199: 3, 1196: 3, 1194: 3, 1168: 3, 1156: 3, 1142: 3, 1131: 3, 1127: 3, 1113: 3, 1104: 3, 1103: 3, 1097: 3, 1077: 3, 1062: 3, 1056: 3, 1030: 3, 1020: 3, 1018: 3, 1014: 3, 1009: 3, 976: 3, 958: 3, 953: 3, 949: 3, 946: 3, 933: 3, 930: 3, 929: 3, 928: 3, 918: 3, 910: 3, 907: 3, 903: 3, 900: 3, 897: 3, 894: 3, 892: 3, 890: 3, 889: 3, 888: 3, 881: 3, 877: 3, 872: 3, 870: 3, 864: 3, 852: 3, 843: 3, 830: 3, 829: 3, 828: 3, 819: 3, 812: 3, 801: 3, 800: 3, 781: 3, 775: 3, 764: 3, 742: 3, 736: 3, 734: 3, 731: 3, 712: 3, 703: 3, 701: 3, 697: 3, 694: 3, 692: 3, 689: 3, 687: 3, 684: 3, 674: 3, 672: 3, 671: 3, 667: 3, 664: 3, 663: 3, 660: 3, 659: 3, 652: 3, 650: 3, 647: 3, 642: 3, 634: 3, 630: 3, 629: 3, 628: 3, 618: 3, 613: 3, 609: 3, 607: 3, 606: 3, 599: 3, 597: 3, 594: 3, 593: 3, 590: 3, 582: 3, 578: 3, 568: 3, 566: 3, 556: 3, 542: 3, 540: 3, 539: 3, 537: 3, 534: 3, 531: 3, 522: 3, 519: 3, 512: 3, 495: 3, 487: 3, 479: 3, 470: 3, 469: 3, 463: 3, 457: 3, 429: 3, 415: 3, 398: 3, 392: 3, 389: 3, 384: 3, 373: 3, 318: 3, 16806: 2, 8732: 2, 6623: 2, 6090: 2, 5618: 2, 5470: 2, 5221: 2, 4965: 2, 4739: 2, 4735: 2, 4573: 2, 4303: 2, 4274: 2, 4243: 2, 4133: 2, 4014: 2, 3834: 2, 3827: 2, 3824: 2, 3722: 2, 3719: 2, 3707: 2, 3666: 2, 3634: 2, 3568: 2, 3565: 2, 3522: 2, 3516: 2, 3502: 2, 3472: 2, 3418: 2, 3403: 2, 3398: 2, 3365: 2, 3334: 2, 3318: 2, 3302: 2, 3223: 2, 3099: 2, 3095: 2, 3066: 2, 3027: 2, 2999: 2, 2995: 2, 2958: 2, 2925: 2, 2916: 2, 2912: 2, 2901: 2, 2838: 2, 2817: 2, 2783: 2, 2677: 2, 2672: 2, 2669: 2, 2647: 2, 2644: 2, 2613: 2, 2600: 2, 2596: 2, 2593: 2, 2540: 2, 2533: 2, 2532: 2, 2525: 2, 2500: 2, 2469: 2, 2456: 2, 2447: 2, 2436: 2, 2433: 2, 2431: 2, 2428: 2, 2413: 2, 2401: 2, 2400: 2, 2385: 2, 2371: 2, 2346: 2, 2339: 2, 2323: 2, 2232: 2, 2220: 2, 2194: 2, 2173: 2, 2165: 2, 2148: 2, 2138: 2, 2137: 2, 2126: 2, 2125: 2, 2111: 2, 2086: 2, 2083: 2, 2072: 2, 2065: 2, 2062: 2, 2057: 2, 2052: 2, 2038: 2, 2025: 2, 2018: 2, 2014: 2, 2009: 2, 1987: 2, 1980: 2, 1964: 2, 1955: 2, 1949: 2, 1936: 2, 1935: 2, 1925: 2, 1921: 2, 1917: 2, 1905: 2, 1878: 2, 1867: 2, 1862: 2, 1856: 2, 1852: 2, 1841: 2, 1813: 2, 1811: 2, 1808: 2, 1805: 2, 1792: 2, 1789: 2, 1775: 2, 1774: 2, 1771: 2, 1759: 2, 1756: 2, 1748: 2, 1743: 2, 1724: 2, 1723: 2, 1715: 2, 1712: 2, 1704: 2, 1689: 2, 1680: 2, 1663: 2, 1658: 2, 1653: 2, 1652: 2, 1650: 2, 1646: 2, 1645: 2, 1632: 2, 1631: 2, 1629: 2, 1628: 2, 1626: 2, 1624: 2, 1617: 2, 1613: 2, 1609: 2, 1604: 2, 1599: 2, 1592: 2, 1591: 2, 1590: 2, 1589: 2, 1586: 2, 1562: 2, 1559: 2, 1556: 2, 1549: 2, 1548: 2, 1545: 2, 1520: 2, 1502: 2, 1495: 2, 1486: 2, 1482: 2, 1481: 2, 1473: 2, 1471: 2, 1456: 2, 1452: 2, 1447: 2, 1446: 2, 1445: 2, 1443: 2, 1433: 2, 1432: 2, 1427: 2, 1416: 2, 1409: 2, 1398: 2, 1397: 2, 1390: 2, 1389: 2, 1383: 2, 1376: 2, 1372: 2, 1369: 2, 1365: 2, 1362: 2, 1360: 2, 1357: 2, 1356: 2, 1344: 2, 1338: 2, 1331: 2, 1327: 2, 1314: 2, 1310: 2, 1309: 2, 1305: 2, 1303: 2, 1300: 2, 1298: 2, 1294: 2, 1288: 2, 1278: 2, 1271: 2, 1261: 2, 1260: 2, 1253: 2, 1251: 2, 1250: 2, 1245: 2, 1244: 2, 1239: 2, 1235: 2, 1232: 2, 1230: 2, 1228: 2, 1226: 2, 1224: 2, 1221: 2, 1219: 2, 1204: 2, 1201: 2, 1200: 2, 1193: 2, 1192: 2, 1191: 2, 1182: 2, 1181: 2, 1179: 2, 1175: 2, 1172: 2, 1169: 2, 1157: 2, 1155: 2, 1153: 2, 1146: 2, 1140: 2, 1139: 2, 1136: 2, 1132: 2, 1130: 2, 1129: 2, 1123: 2, 1121: 2, 1115: 2, 1111: 2, 1108: 2, 1106: 2, 1101: 2, 1095: 2, 1093: 2, 1088: 2, 1087: 2, 1085: 2, 1084: 2, 1081: 2, 1073: 2, 1071: 2, 1069: 2, 1055: 2, 1047: 2, 1040: 2, 1034: 2, 1032: 2, 1027: 2, 1026: 2, 1024: 2, 1017: 2, 1015: 2, 1013: 2, 1011: 2, 1010: 2, 1007: 2, 1001: 2, 998: 2, 997: 2, 996: 2, 995: 2, 992: 2, 980: 2, 978: 2, 974: 2, 972: 2, 969: 2, 965: 2, 964: 2, 962: 2, 951: 2, 940: 2, 939: 2, 937: 2, 923: 2, 919: 2, 913: 2, 911: 2, 906: 2, 901: 2, 899: 2, 898: 2, 896: 2, 895: 2, 893: 2, 886: 2, 882: 2, 876: 2, 868: 2, 866: 2, 865: 2, 863: 2, 861: 2, 858: 2, 856: 2, 851: 2, 850: 2, 847: 2, 842: 2, 826: 2, 821: 2, 818: 2, 816: 2, 815: 2, 808: 2, 807: 2, 795: 2, 794: 2, 788: 2, 786: 2, 784: 2, 779: 2, 777: 2, 773: 2, 770: 2, 768: 2, 761: 2, 760: 2, 758: 2, 755: 2, 753: 2, 752: 2, 749: 2, 748: 2, 744: 2, 743: 2, 737: 2, 735: 2, 727: 2, 725: 2, 722: 2, 719: 2, 716: 2, 715: 2, 713: 2, 711: 2, 706: 2, 702: 2, 698: 2, 696: 2, 693: 2, 682: 2, 680: 2, 668: 2, 666: 2, 665: 2, 662: 2, 658: 2, 656: 2, 655: 2, 651: 2, 644: 2, 636: 2, 617: 2, 616: 2, 604: 2, 600: 2, 591: 2, 587: 2, 584: 2, 579: 2, 570: 2, 569: 2, 558: 2, 547: 2, 546: 2, 545: 2, 524: 2, 516: 2, 515: 2, 506: 2, 500: 2, 493: 2, 492: 2, 465: 2, 458: 2, 438: 2, 434: 2, 386: 2, 150485: 1, 120244: 1, 83572: 1, 67792: 1, 67693: 1, 67087: 1, 66992: 1, 63308: 1, 63169: 1, 54908: 1, 53636: 1, 50752: 1, 48588: 1, 46906: 1, 46563: 1, 44557: 1, 42740: 1, 42135: 1, 41608: 1, 41486: 1, 40149: 1, 39743: 1, 39684: 1, 39385: 1, 38028: 1, 37086: 1, 36581: 1, 36510: 1, 35516: 1, 35163: 1, 34649: 1, 34253: 1, 33512: 1, 32842: 1, 32492: 1, 31465: 1, 29502: 1, 28270: 1, 28091: 1, 25897: 1, 25879: 1, 25521: 1, 25412: 1, 25296: 1, 25259: 1, 25256: 1, 24699: 1, 24643: 1, 24078: 1, 24073: 1, 23985: 1, 23928: 1, 23919: 1, 22438: 1, 22409: 1, 22142: 1, 22072: 1, 21857: 1, 21129: 1, 21010: 1, 20760: 1, 20692: 1, 20483: 1, 20292: 1, 20157: 1, 19947: 1, 19880: 1, 19815: 1, 19491: 1, 18966: 1, 18865: 1, 18728: 1, 18676: 1, 18569: 1, 18502: 1, 18477: 1, 18471: 1, 18127: 1, 18045: 1, 18029: 1, 17920: 1, 17916: 1, 17821: 1, 17644: 1, 17605: 1, 17464: 1, 17332: 1, 17290: 1, 17276: 1, 17230: 1, 17177: 1, 17156: 1, 17075: 1, 16688: 1, 16471: 1, 16196: 1, 15948: 1, 15896: 1, 15769: 1, 15755: 1, 15697: 1, 15518: 1, 15393: 1, 15374: 1, 15271: 1, 15189: 1, 15183: 1, 15153: 1, 15136: 1, 15094: 1, 14941: 1, 14651: 1, 14615: 1, 14573: 1, 14528: 1, 14479: 1, 14220: 1, 14138: 1, 14118: 1, 14014: 1, 13777: 1, 13774: 1, 13658: 1, 13560: 1, 13390: 1, 13293: 1, 13279: 1, 13244: 1, 13177: 1, 13166: 1, 13165: 1, 13065: 1, 12939: 1, 12927: 1, 12800: 1, 12699: 1, 12688: 1, 12654: 1, 12609: 1, 12600: 1, 12540: 1, 12493: 1, 12479: 1, 12428: 1, 12404: 1, 12380: 1, 12323: 1, 12261: 1, 12254: 1, 12233: 1, 12227: 1, 12190: 1, 12180: 1, 12168: 1, 12155: 1, 12127: 1, 12113: 1, 12058: 1, 12048: 1, 11993: 1, 11954: 1, 11925: 1, 11863: 1, 11805: 1, 11760: 1, 11700: 1, 11678: 1, 11650: 1, 11612: 1, 11608: 1, 11558: 1, 11503: 1, 11498: 1, 11490: 1, 11348: 1, 11341: 1, 11291: 1, 11264: 1, 11249: 1, 11243: 1, 11195: 1, 11108: 1, 10964: 1, 10933: 1, 10857: 1, 10815: 1, 10707: 1, 10605: 1, 10564: 1, 10374: 1, 10346: 1, 10285: 1, 10264: 1, 10228: 1, 10185: 1, 10174: 1, 10097: 1, 10046: 1, 10012: 1, 9943: 1, 9902: 1, 9899: 1, 9893: 1, 9883: 1, 9866: 1, 9839: 1, 9795: 1, 9791: 1, 9725: 1, 9704: 1, 9634: 1, 9615: 1, 9598: 1, 9572: 1, 9543: 1, 9538: 1, 9535: 1, 9486: 1, 9481: 1, 9431: 1, 9359: 1, 9323: 1, 9311: 1, 9273: 1, 9260: 1, 9258: 1, 9217: 1, 9215: 1, 9212: 1, 9187: 1, 9095: 1, 9060: 1, 9048: 1, 9023: 1, 8999: 1, 8992: 1, 8952: 1, 8780: 1, 8728: 1, 8718: 1, 8698: 1, 8695: 1, 8684: 1, 8637: 1, 8631: 1, 8615: 1, 8605: 1, 8550: 1, 8515: 1, 8513: 1, 8465: 1, 8451: 1, 8447: 1, 8400: 1, 8389: 1, 8288: 1, 8282: 1, 8255: 1, 8244: 1, 8233: 1, 8216: 1, 8195: 1, 8139: 1, 8116: 1, 8104: 1, 8062: 1, 8037: 1, 8031: 1, 8008: 1, 7979: 1, 7951: 1, 7942: 1, 7937: 1, 7930: 1, 7891: 1, 7888: 1, 7867: 1, 7848: 1, 7834: 1, 7832: 1, 7758: 1, 7728: 1, 7721: 1, 7719: 1, 7708: 1, 7684: 1, 7677: 1, 7612: 1, 7601: 1, 7591: 1, 7559: 1, 7558: 1, 7534: 1, 7502: 1, 7459: 1, 7450: 1, 7434: 1, 7383: 1, 7370: 1, 7356: 1, 7323: 1, 7304: 1, 7288: 1, 7274: 1, 7264: 1, 7249: 1, 7215: 1, 7193: 1, 7168: 1, 7166: 1, 7144: 1, 7125: 1, 7094: 1, 7088: 1, 7085: 1, 7080: 1, 7077: 1, 7067: 1, 7045: 1, 7030: 1, 6997: 1, 6989: 1, 6988: 1, 6987: 1, 6977: 1, 6969: 1, 6966: 1, 6957: 1, 6946: 1, 6927: 1, 6898: 1, 6881: 1, 6871: 1, 6868: 1, 6858: 1, 6855: 1, 6839: 1, 6792: 1, 6758: 1, 6755: 1, 6737: 1, 6709: 1, 6684: 1, 6675: 1, 6663: 1, 6633: 1, 6626: 1, 6597: 1, 6562: 1, 6561: 1, 6559: 1, 6547: 1, 6532: 1, 6508: 1, 6501: 1, 6495: 1, 6463: 1, 6460: 1, 6444: 1, 6442: 1, 6431: 1, 6428: 1, 6423: 1, 6414: 1, 6409: 1, 6398: 1, 6363: 1, 6349: 1, 6338: 1, 6336: 1, 6303: 1, 6299: 1, 6298: 1, 6278: 1, 6271: 1, 6259: 1, 6258: 1, 6256: 1, 6248: 1, 6219: 1, 6196: 1, 6130: 1, 6124: 1, 6118: 1, 6116: 1, 6115: 1, 6114: 1, 6113: 1, 6095: 1, 6088: 1, 6070: 1, 6064: 1, 6038: 1, 6033: 1, 6021: 1, 6016: 1, 5958: 1, 5949: 1, 5934: 1, 5931: 1, 5892: 1, 5844: 1, 5843: 1, 5838: 1, 5820: 1, 5803: 1, 5796: 1, 5795: 1, 5786: 1, 5779: 1, 5768: 1, 5753: 1, 5746: 1, 5738: 1, 5721: 1, 5705: 1, 5686: 1, 5680: 1, 5672: 1, 5671: 1, 5637: 1, 5633: 1, 5628: 1, 5614: 1, 5611: 1, 5584: 1, 5541: 1, 5533: 1, 5518: 1, 5511: 1, 5477: 1, 5455: 1, 5450: 1, 5429: 1, 5427: 1, 5414: 1, 5407: 1, 5401: 1, 5393: 1, 5375: 1, 5373: 1, 5348: 1, 5338: 1, 5319: 1, 5306: 1, 5302: 1, 5294: 1, 5245: 1, 5208: 1, 5203: 1, 5186: 1, 5181: 1, 5165: 1, 5162: 1, 5161: 1, 5159: 1, 5142: 1, 5134: 1, 5131: 1, 5121: 1, 5115: 1, 5101: 1, 5092: 1, 5084: 1, 5081: 1, 5068: 1, 5064: 1, 5063: 1, 5022: 1, 5002: 1, 5001: 1, 4978: 1, 4968: 1, 4964: 1, 4954: 1, 4951: 1, 4946: 1, 4939: 1, 4930: 1, 4915: 1, 4899: 1, 4895: 1, 4892: 1, 4885: 1, 4883: 1, 4881: 1, 4864: 1, 4862: 1, 4854: 1, 4846: 1, 4842: 1, 4839: 1, 4827: 1, 4823: 1, 4820: 1, 4818: 1, 4811: 1, 4806: 1, 4787: 1, 4769: 1, 4766: 1, 4734: 1, 4727: 1, 4721: 1, 4709: 1, 4700: 1, 4666: 1, 4660: 1, 4653: 1, 4640: 1, 4635: 1, 4634: 1, 4620: 1, 4610: 1, 4602: 1, 4600: 1, 4595: 1, 4590: 1, 4587: 1, 4566: 1, 4558: 1, 4557: 1, 4544: 1, 4538: 1, 4537: 1, 4527: 1, 4505: 1, 4498: 1, 4495: 1, 4487: 1, 4479: 1, 4476: 1, 4472: 1, 4462: 1, 4451: 1, 4441: 1, 4434: 1, 4433: 1, 4432: 1, 4420: 1, 4419: 1, 4417: 1, 4410: 1, 4398: 1, 4391: 1, 4373: 1, 4369: 1, 4365: 1, 4364: 1, 4323: 1, 4322: 1, 4297: 1, 4296: 1, 4286: 1, 4285: 1, 4282: 1, 4280: 1, 4277: 1, 4276: 1, 4241: 1, 4236: 1, 4235: 1, 4227: 1, 4225: 1, 4221: 1, 4218: 1, 4217: 1, 4216: 1, 4207: 1, 4199: 1, 4197: 1, 4177: 1, 4172: 1, 4165: 1, 4161: 1, 4148: 1, 4124: 1, 4117: 1, 4114: 1, 4106: 1, 4103: 1, 4100: 1, 4087: 1, 4065: 1, 4063: 1, 4059: 1, 4058: 1, 4057: 1, 4054: 1, 4052: 1, 4039: 1, 4033: 1, 4023: 1, 4022: 1, 4006: 1, 3998: 1, 3997: 1, 3992: 1, 3990: 1, 3988: 1, 3982: 1, 3977: 1, 3964: 1, 3958: 1, 3957: 1, 3947: 1, 3944: 1, 3939: 1, 3928: 1, 3917: 1, 3909: 1, 3906: 1, 3882: 1, 3879: 1, 3877: 1, 3871: 1, 3869: 1, 3862: 1, 3853: 1, 3840: 1, 3836: 1, 3835: 1, 3832: 1, 3822: 1, 3819: 1, 3816: 1, 3813: 1, 3794: 1, 3781: 1, 3769: 1, 3767: 1, 3763: 1, 3760: 1, 3759: 1, 3758: 1, 3757: 1, 3718: 1, 3715: 1, 3709: 1, 3704: 1, 3698: 1, 3696: 1, 3695: 1, 3692: 1, 3691: 1, 3690: 1, 3687: 1, 3673: 1, 3655: 1, 3649: 1, 3642: 1, 3640: 1, 3639: 1, 3632: 1, 3613: 1, 3600: 1, 3599: 1, 3598: 1, 3594: 1, 3592: 1, 3583: 1, 3580: 1, 3577: 1, 3575: 1, 3574: 1, 3569: 1, 3567: 1, 3564: 1, 3554: 1, 3553: 1, 3540: 1, 3536: 1, 3535: 1, 3534: 1, 3531: 1, 3523: 1, 3510: 1, 3499: 1, 3494: 1, 3492: 1, 3489: 1, 3487: 1, 3485: 1, 3484: 1, 3481: 1, 3479: 1, 3478: 1, 3468: 1, 3460: 1, 3459: 1, 3456: 1, 3455: 1, 3454: 1, 3453: 1, 3447: 1, 3440: 1, 3435: 1, 3434: 1, 3433: 1, 3424: 1, 3420: 1, 3419: 1, 3413: 1, 3412: 1, 3409: 1, 3407: 1, 3396: 1, 3393: 1, 3389: 1, 3388: 1, 3386: 1, 3382: 1, 3378: 1, 3377: 1, 3364: 1, 3358: 1, 3347: 1, 3342: 1, 3338: 1, 3332: 1, 3322: 1, 3308: 1, 3305: 1, 3303: 1, 3299: 1, 3295: 1, 3292: 1, 3290: 1, 3288: 1, 3287: 1, 3277: 1, 3274: 1, 3270: 1, 3254: 1, 3251: 1, 3240: 1, 3231: 1, 3226: 1, 3224: 1, 3218: 1, 3217: 1, 3216: 1, 3214: 1, 3213: 1, 3207: 1, 3202: 1, 3196: 1, 3195: 1, 3192: 1, 3190: 1, 3186: 1, 3185: 1, 3176: 1, 3175: 1, 3160: 1, 3159: 1, 3158: 1, 3157: 1, 3153: 1, 3148: 1, 3147: 1, 3137: 1, 3135: 1, 3127: 1, 3126: 1, 3123: 1, 3119: 1, 3114: 1, 3113: 1, 3107: 1, 3105: 1, 3090: 1, 3089: 1, 3087: 1, 3082: 1, 3069: 1, 3064: 1, 3063: 1, 3062: 1, 3054: 1, 3042: 1, 3036: 1, 3035: 1, 3032: 1, 3026: 1, 3003: 1, 2998: 1, 2997: 1, 2986: 1, 2972: 1, 2969: 1, 2965: 1, 2962: 1, 2961: 1, 2956: 1, 2952: 1, 2943: 1, 2938: 1, 2932: 1, 2915: 1, 2913: 1, 2908: 1, 2906: 1, 2904: 1, 2903: 1, 2900: 1, 2879: 1, 2877: 1, 2870: 1, 2861: 1, 2859: 1, 2850: 1, 2849: 1, 2836: 1, 2825: 1, 2816: 1, 2815: 1, 2799: 1, 2797: 1, 2795: 1, 2794: 1, 2788: 1, 2786: 1, 2785: 1, 2781: 1, 2776: 1, 2775: 1, 2766: 1, 2750: 1, 2742: 1, 2741: 1, 2738: 1, 2732: 1, 2724: 1, 2712: 1, 2710: 1, 2708: 1, 2705: 1, 2704: 1, 2699: 1, 2696: 1, 2695: 1, 2692: 1, 2691: 1, 2689: 1, 2684: 1, 2675: 1, 2673: 1, 2667: 1, 2663: 1, 2662: 1, 2659: 1, 2658: 1, 2656: 1, 2653: 1, 2651: 1, 2650: 1, 2649: 1, 2646: 1, 2643: 1, 2642: 1, 2636: 1, 2633: 1, 2627: 1, 2625: 1, 2624: 1, 2623: 1, 2622: 1, 2621: 1, 2617: 1, 2616: 1, 2604: 1, 2601: 1, 2592: 1, 2590: 1, 2579: 1, 2578: 1, 2574: 1, 2570: 1, 2566: 1, 2563: 1, 2560: 1, 2556: 1, 2553: 1, 2551: 1, 2548: 1, 2543: 1, 2542: 1, 2536: 1, 2534: 1, 2531: 1, 2524: 1, 2521: 1, 2519: 1, 2518: 1, 2514: 1, 2508: 1, 2505: 1, 2504: 1, 2502: 1, 2496: 1, 2495: 1, 2494: 1, 2491: 1, 2489: 1, 2487: 1, 2484: 1, 2478: 1, 2473: 1, 2471: 1, 2468: 1, 2464: 1, 2462: 1, 2461: 1, 2458: 1, 2446: 1, 2441: 1, 2439: 1, 2434: 1, 2432: 1, 2427: 1, 2417: 1, 2403: 1, 2399: 1, 2395: 1, 2394: 1, 2391: 1, 2386: 1, 2382: 1, 2381: 1, 2379: 1, 2378: 1, 2375: 1, 2366: 1, 2365: 1, 2363: 1, 2357: 1, 2355: 1, 2353: 1, 2351: 1, 2350: 1, 2349: 1, 2348: 1, 2347: 1, 2345: 1, 2344: 1, 2324: 1, 2321: 1, 2314: 1, 2313: 1, 2307: 1, 2298: 1, 2292: 1, 2287: 1, 2286: 1, 2282: 1, 2280: 1, 2279: 1, 2278: 1, 2271: 1, 2264: 1, 2262: 1, 2261: 1, 2257: 1, 2251: 1, 2244: 1, 2241: 1, 2240: 1, 2236: 1, 2233: 1, 2225: 1, 2221: 1, 2216: 1, 2209: 1, 2208: 1, 2195: 1, 2193: 1, 2192: 1, 2188: 1, 2186: 1, 2183: 1, 2176: 1, 2172: 1, 2171: 1, 2170: 1, 2163: 1, 2159: 1, 2157: 1, 2154: 1, 2149: 1, 2139: 1, 2135: 1, 2134: 1, 2131: 1, 2120: 1, 2118: 1, 2113: 1, 2109: 1, 2108: 1, 2105: 1, 2104: 1, 2102: 1, 2101: 1, 2098: 1, 2096: 1, 2095: 1, 2093: 1, 2091: 1, 2087: 1, 2078: 1, 2077: 1, 2076: 1, 2075: 1, 2074: 1, 2071: 1, 2064: 1, 2063: 1, 2061: 1, 2054: 1, 2050: 1, 2048: 1, 2046: 1, 2043: 1, 2041: 1, 2028: 1, 2024: 1, 2021: 1, 2019: 1, 2016: 1, 2011: 1, 2010: 1, 2002: 1, 2001: 1, 1999: 1, 1995: 1, 1993: 1, 1992: 1, 1991: 1, 1986: 1, 1982: 1, 1981: 1, 1978: 1, 1977: 1, 1970: 1, 1967: 1, 1961: 1, 1959: 1, 1958: 1, 1954: 1, 1953: 1, 1951: 1, 1950: 1, 1947: 1, 1942: 1, 1933: 1, 1929: 1, 1928: 1, 1924: 1, 1923: 1, 1919: 1, 1918: 1, 1909: 1, 1908: 1, 1906: 1, 1904: 1, 1903: 1, 1894: 1, 1893: 1, 1892: 1, 1889: 1, 1888: 1, 1886: 1, 1884: 1, 1881: 1, 1879: 1, 1877: 1, 1875: 1, 1873: 1, 1871: 1, 1869: 1, 1865: 1, 1864: 1, 1855: 1, 1854: 1, 1847: 1, 1846: 1, 1844: 1, 1842: 1, 1839: 1, 1838: 1, 1834: 1, 1832: 1, 1831: 1, 1830: 1, 1828: 1, 1824: 1, 1823: 1, 1822: 1, 1821: 1, 1820: 1, 1817: 1, 1814: 1, 1804: 1, 1802: 1, 1801: 1, 1796: 1, 1795: 1, 1793: 1, 1788: 1, 1787: 1, 1785: 1, 1783: 1, 1780: 1, 1766: 1, 1764: 1, 1763: 1, 1762: 1, 1761: 1, 1760: 1, 1758: 1, 1753: 1, 1752: 1, 1747: 1, 1745: 1, 1742: 1, 1740: 1, 1736: 1, 1733: 1, 1729: 1, 1722: 1, 1720: 1, 1718: 1, 1713: 1, 1710: 1, 1706: 1, 1703: 1, 1702: 1, 1700: 1, 1694: 1, 1690: 1, 1686: 1, 1684: 1, 1681: 1, 1679: 1, 1678: 1, 1676: 1, 1675: 1, 1672: 1, 1671: 1, 1669: 1, 1667: 1, 1664: 1, 1659: 1, 1657: 1, 1656: 1, 1648: 1, 1647: 1, 1639: 1, 1638: 1, 1636: 1, 1635: 1, 1634: 1, 1630: 1, 1622: 1, 1615: 1, 1614: 1, 1612: 1, 1607: 1, 1602: 1, 1594: 1, 1587: 1, 1585: 1, 1584: 1, 1583: 1, 1582: 1, 1579: 1, 1578: 1, 1573: 1, 1571: 1, 1570: 1, 1568: 1, 1567: 1, 1561: 1, 1558: 1, 1557: 1, 1555: 1, 1554: 1, 1553: 1, 1551: 1, 1550: 1, 1546: 1, 1544: 1, 1541: 1, 1540: 1, 1538: 1, 1537: 1, 1535: 1, 1534: 1, 1531: 1, 1530: 1, 1526: 1, 1525: 1, 1522: 1, 1521: 1, 1519: 1, 1516: 1, 1515: 1, 1510: 1, 1509: 1, 1508: 1, 1506: 1, 1503: 1, 1498: 1, 1493: 1, 1487: 1, 1485: 1, 1480: 1, 1476: 1, 1474: 1, 1470: 1, 1467: 1, 1466: 1, 1463: 1, 1462: 1, 1460: 1, 1459: 1, 1457: 1, 1455: 1, 1453: 1, 1451: 1, 1450: 1, 1448: 1, 1444: 1, 1442: 1, 1440: 1, 1439: 1, 1436: 1, 1429: 1, 1428: 1, 1425: 1, 1423: 1, 1422: 1, 1420: 1, 1419: 1, 1417: 1, 1415: 1, 1413: 1, 1400: 1, 1395: 1, 1394: 1, 1392: 1, 1391: 1, 1388: 1, 1385: 1, 1384: 1, 1382: 1, 1379: 1, 1377: 1, 1375: 1, 1373: 1, 1371: 1, 1370: 1, 1358: 1, 1354: 1, 1351: 1, 1348: 1, 1347: 1, 1346: 1, 1345: 1, 1340: 1, 1339: 1, 1335: 1, 1334: 1, 1332: 1, 1326: 1, 1325: 1, 1322: 1, 1319: 1, 1317: 1, 1311: 1, 1308: 1, 1306: 1, 1299: 1, 1295: 1, 1292: 1, 1289: 1, 1284: 1, 1283: 1, 1282: 1, 1281: 1, 1276: 1, 1274: 1, 1273: 1, 1272: 1, 1269: 1, 1262: 1, 1256: 1, 1255: 1, 1248: 1, 1246: 1, 1242: 1, 1240: 1, 1236: 1, 1234: 1, 1233: 1, 1231: 1, 1229: 1, 1227: 1, 1223: 1, 1218: 1, 1217: 1, 1215: 1, 1212: 1, 1210: 1, 1208: 1, 1206: 1, 1205: 1, 1198: 1, 1197: 1, 1195: 1, 1190: 1, 1188: 1, 1186: 1, 1184: 1, 1183: 1, 1180: 1, 1178: 1, 1176: 1, 1174: 1, 1171: 1, 1170: 1, 1167: 1, 1164: 1, 1162: 1, 1161: 1, 1159: 1, 1151: 1, 1150: 1, 1148: 1, 1145: 1, 1144: 1, 1143: 1, 1141: 1, 1135: 1, 1134: 1, 1128: 1, 1124: 1, 1122: 1, 1119: 1, 1117: 1, 1110: 1, 1109: 1, 1100: 1, 1091: 1, 1090: 1, 1089: 1, 1082: 1, 1080: 1, 1076: 1, 1075: 1, 1074: 1, 1068: 1, 1065: 1, 1064: 1, 1063: 1, 1061: 1, 1059: 1, 1058: 1, 1057: 1, 1054: 1, 1051: 1, 1048: 1, 1046: 1, 1043: 1, 1041: 1, 1038: 1, 1037: 1, 1036: 1, 1035: 1, 1031: 1, 1023: 1, 1022: 1, 1021: 1, 1019: 1, 1016: 1, 1006: 1, 1005: 1, 990: 1, 988: 1, 987: 1, 985: 1, 983: 1, 982: 1, 981: 1, 979: 1, 977: 1, 973: 1, 970: 1, 968: 1, 967: 1, 963: 1, 961: 1, 960: 1, 957: 1, 950: 1, 947: 1, 944: 1, 943: 1, 941: 1, 934: 1, 932: 1, 927: 1, 925: 1, 921: 1, 920: 1, 916: 1, 908: 1, 902: 1, 883: 1, 880: 1, 879: 1, 875: 1, 855: 1, 849: 1, 841: 1, 840: 1, 838: 1, 837: 1, 836: 1, 835: 1, 824: 1, 823: 1, 814: 1, 811: 1, 810: 1, 809: 1, 805: 1, 803: 1, 798: 1, 789: 1, 787: 1, 783: 1, 776: 1, 774: 1, 771: 1, 769: 1, 765: 1, 763: 1, 754: 1, 751: 1, 746: 1, 745: 1, 741: 1, 740: 1, 739: 1, 728: 1, 717: 1, 708: 1, 705: 1, 704: 1, 700: 1, 699: 1, 690: 1, 683: 1, 679: 1, 673: 1, 661: 1, 653: 1, 645: 1, 633: 1, 627: 1, 610: 1, 608: 1, 605: 1, 565: 1, 529: 1, 525: 1, 523: 1, 518: 1, 484: 1, 422: 1, 409: 1})\n"
     ]
    }
   ],
   "source": [
    "# Number of words for a given frequency.\n",
    "print(Counter(sorted_text_occur))"
   ]
  },
  {
   "cell_type": "code",
   "execution_count": null,
   "id": "57edf47e",
   "metadata": {
    "colab": {
     "base_uri": "https://localhost:8080/",
     "height": 450
    },
    "id": "1sys81mqOQyh",
    "outputId": "03778414-b7dc-4c3f-b2b5-98f1de75685f"
   },
   "outputs": [
    {
     "name": "stdout",
     "output_type": "stream",
     "text": [
      "For values of alpha =  1e-05 The log loss is: 1.2387624967510251\n",
      "For values of alpha =  0.0001 The log loss is: 1.1103065577700688\n",
      "For values of alpha =  0.001 The log loss is: 1.1248637824746475\n",
      "For values of alpha =  0.01 The log loss is: 1.1856900775581272\n",
      "For values of alpha =  0.1 The log loss is: 1.400407351868453\n",
      "For values of alpha =  1 The log loss is: 1.6404062301518965\n"
     ]
    },
    {
     "data": {
      "image/png": "[encoded data removed]",
      "text/plain": [
       "<Figure size 432x288 with 1 Axes>"
      ]
     },
     "metadata": {
      "needs_background": "light",
      "tags": []
     },
     "output_type": "display_data"
    },
    {
     "name": "stdout",
     "output_type": "stream",
     "text": [
      "For values of best alpha =  0.0001 The train log loss is: 0.6088685809573063\n",
      "For values of best alpha =  0.0001 The cross validation log loss is: 1.1103065577700688\n",
      "For values of best alpha =  0.0001 The test log loss is: 1.2373610909373611\n"
     ]
    }
   ],
   "source": [
    "# Train a Logistic regression+Calibration model using text features whicha re on-hot encoded\n",
    "alpha = [10 ** x for x in range(-5, 1)]\n",
    "\n",
    "# read more about SGDClassifier() at http://scikit-learn.org/stable/modules/generated/sklearn.linear_model.SGDClassifier.html\n",
    "# ------------------------------\n",
    "# default parameters\n",
    "# SGDClassifier(loss=’hinge’, penalty=’l2’, alpha=0.0001, l1_ratio=0.15, fit_intercept=True, max_iter=None, tol=None, \n",
    "# shuffle=True, verbose=0, epsilon=0.1, n_jobs=1, random_state=None, learning_rate=’optimal’, eta0=0.0, power_t=0.5, \n",
    "# class_weight=None, warm_start=False, average=False, n_iter=None)\n",
    "\n",
    "# some of methods\n",
    "# fit(X, y[, coef_init, intercept_init, …])\tFit linear model with Stochastic Gradient Descent.\n",
    "# predict(X)\tPredict class labels for samples in X.\n",
    "\n",
    "#-------------------------------\n",
    "# video link: \n",
    "#------------------------------\n",
    "\n",
    "\n",
    "cv_log_error_array=[]\n",
    "for i in alpha:\n",
    "    clf = SGDClassifier(alpha=i, penalty='l2', loss='log', random_state=42)\n",
    "    clf.fit(train_text_feature_onehotCoding, y_train)\n",
    "    \n",
    "    sig_clf = CalibratedClassifierCV(clf, method=\"sigmoid\")\n",
    "    sig_clf.fit(train_text_feature_onehotCoding, y_train)\n",
    "    predict_y = sig_clf.predict_proba(cv_text_feature_onehotCoding)\n",
    "    cv_log_error_array.append(log_loss(y_cv, predict_y, labels=clf.classes_, eps=1e-15))\n",
    "    print('For values of alpha = ', i, \"The log loss is:\",log_loss(y_cv, predict_y, labels=clf.classes_, eps=1e-15))\n",
    "\n",
    "fig, ax = plt.subplots()\n",
    "ax.plot(alpha, cv_log_error_array,c='g')\n",
    "for i, txt in enumerate(np.round(cv_log_error_array,3)):\n",
    "    ax.annotate((alpha[i],np.round(txt,3)), (alpha[i],cv_log_error_array[i]))\n",
    "plt.grid()\n",
    "plt.title(\"Cross Validation Error for each alpha\")\n",
    "plt.xlabel(\"Alpha i's\")\n",
    "plt.ylabel(\"Error measure\")\n",
    "plt.show()\n",
    "\n",
    "\n",
    "best_alpha = np.argmin(cv_log_error_array)\n",
    "clf = SGDClassifier(alpha=alpha[best_alpha], penalty='l2', loss='log', random_state=42)\n",
    "clf.fit(train_text_feature_onehotCoding, y_train)\n",
    "sig_clf = CalibratedClassifierCV(clf, method=\"sigmoid\")\n",
    "sig_clf.fit(train_text_feature_onehotCoding, y_train)\n",
    "\n",
    "predict_y = sig_clf.predict_proba(train_text_feature_onehotCoding)\n",
    "print('For values of best alpha = ', alpha[best_alpha], \"The train log loss is:\",log_loss(y_train, predict_y, labels=clf.classes_, eps=1e-15))\n",
    "predict_y = sig_clf.predict_proba(cv_text_feature_onehotCoding)\n",
    "print('For values of best alpha = ', alpha[best_alpha], \"The cross validation log loss is:\",log_loss(y_cv, predict_y, labels=clf.classes_, eps=1e-15))\n",
    "predict_y = sig_clf.predict_proba(test_text_feature_onehotCoding)\n",
    "print('For values of best alpha = ', alpha[best_alpha], \"The test log loss is:\",log_loss(y_test, predict_y, labels=clf.classes_, eps=1e-15))\n"
   ]
  },
  {
   "cell_type": "markdown",
   "id": "5f883211",
   "metadata": {
    "id": "s6AqmMa0OQym"
   },
   "source": [
    "<p style=\"font-size:18px;\"> <b>Q.</b> Is the Text feature stable across all the data sets (Test, Train, Cross validation)?</p>\n",
    "<p style=\"font-size:16px;\"> <b>Ans.</b> Yes, it seems like! </p>"
   ]
  },
  {
   "cell_type": "code",
   "execution_count": null,
   "id": "161b1a4c",
   "metadata": {
    "id": "p_cUhp-ZOQyn"
   },
   "outputs": [],
   "source": [
    "def get_intersec_text(df):\n",
    "    df_text_vec = CountVectorizer(min_df=3)\n",
    "    df_text_fea = df_text_vec.fit_transform(df['TEXT'])\n",
    "    df_text_features = df_text_vec.get_feature_names()\n",
    "\n",
    "    df_text_fea_counts = df_text_fea.sum(axis=0).A1\n",
    "    df_text_fea_dict = dict(zip(list(df_text_features),df_text_fea_counts))\n",
    "    len1 = len(set(df_text_features))\n",
    "    len2 = len(set(train_text_features) & set(df_text_features))\n",
    "    return len1,len2"
   ]
  },
  {
   "cell_type": "code",
   "execution_count": null,
   "id": "2259c91e",
   "metadata": {
    "colab": {
     "base_uri": "https://localhost:8080/"
    },
    "id": "yjNmkGN9OQyo",
    "outputId": "c52a15df-163c-4869-b6e3-8ba61a53965e"
   },
   "outputs": [
    {
     "name": "stdout",
     "output_type": "stream",
     "text": [
      "96.853 % of word of test data appeared in train data\n",
      "98.582 % of word of Cross Validation appeared in train data\n"
     ]
    }
   ],
   "source": [
    "len1,len2 = get_intersec_text(test_df)\n",
    "print(np.round((len2/len1)*100, 3), \"% of word of test data appeared in train data\")\n",
    "len1,len2 = get_intersec_text(cv_df)\n",
    "print(np.round((len2/len1)*100, 3), \"% of word of Cross Validation appeared in train data\")"
   ]
  },
  {
   "cell_type": "markdown",
   "id": "6fe66164",
   "metadata": {
    "id": "XXWA-CNqOQys"
   },
   "source": [
    "<h1>4. Machine Learning Models</h1>"
   ]
  },
  {
   "cell_type": "code",
   "execution_count": null,
   "id": "05d22ead",
   "metadata": {
    "id": "EKJzoIyQOQys"
   },
   "outputs": [],
   "source": [
    "#Data preparation for ML models.\n",
    "\n",
    "#Misc. functionns for ML models\n",
    "\n",
    "\n",
    "def predict_and_plot_confusion_matrix(train_x, train_y,test_x, test_y, clf):\n",
    "    clf.fit(train_x, train_y)\n",
    "    sig_clf = CalibratedClassifierCV(clf, method=\"sigmoid\")\n",
    "    sig_clf.fit(train_x, train_y)\n",
    "    pred_y = sig_clf.predict(test_x)\n",
    "\n",
    "    # for calculating log_loss we willl provide the array of probabilities belongs to each class\n",
    "    print(\"Log loss :\",log_loss(test_y, sig_clf.predict_proba(test_x)))\n",
    "    # calculating the number of data points that are misclassified\n",
    "    print(\"Number of mis-classified points :\", np.count_nonzero((pred_y- test_y))/test_y.shape[0])\n",
    "    plot_confusion_matrix(test_y, pred_y)"
   ]
  },
  {
   "cell_type": "code",
   "execution_count": null,
   "id": "586a0053",
   "metadata": {
    "id": "XmI-EZ-XOQyv"
   },
   "outputs": [],
   "source": [
    "def report_log_loss(train_x, train_y, test_x, test_y,  clf):\n",
    "    clf.fit(train_x, train_y)\n",
    "    sig_clf = CalibratedClassifierCV(clf, method=\"sigmoid\")\n",
    "    sig_clf.fit(train_x, train_y)\n",
    "    sig_clf_probs = sig_clf.predict_proba(test_x)\n",
    "    return log_loss(test_y, sig_clf_probs, eps=1e-15)"
   ]
  },
  {
   "cell_type": "code",
   "execution_count": null,
   "id": "5d212596",
   "metadata": {
    "id": "m68G02CbOQyw"
   },
   "outputs": [],
   "source": [
    "# this function will be used just for naive bayes\n",
    "# for the given indices, we will print the name of the features\n",
    "# and we will check whether the feature present in the test point text or not\n",
    "def get_impfeature_names(indices, text, gene, var, no_features):\n",
    "    gene_count_vec = CountVectorizer()\n",
    "    var_count_vec = CountVectorizer()\n",
    "    text_count_vec = CountVectorizer(min_df=3)\n",
    "    \n",
    "    gene_vec = gene_count_vec.fit(train_df['Gene'])\n",
    "    var_vec  = var_count_vec.fit(train_df['Variation'])\n",
    "    text_vec = text_count_vec.fit(train_df['TEXT'])\n",
    "    \n",
    "    fea1_len = len(gene_vec.get_feature_names())\n",
    "    fea2_len = len(var_count_vec.get_feature_names())\n",
    "    \n",
    "    word_present = 0\n",
    "    for i,v in enumerate(indices):\n",
    "        if (v < fea1_len):\n",
    "            word = gene_vec.get_feature_names()[v]\n",
    "            yes_no = True if word == gene else False\n",
    "            if yes_no:\n",
    "                word_present += 1\n",
    "                print(i, \"Gene feature [{}] present in test data point [{}]\".format(word,yes_no))\n",
    "        elif (v < fea1_len+fea2_len):\n",
    "            word = var_vec.get_feature_names()[v-(fea1_len)]\n",
    "            yes_no = True if word == var else False\n",
    "            if yes_no:\n",
    "                word_present += 1\n",
    "                print(i, \"variation feature [{}] present in test data point [{}]\".format(word,yes_no))\n",
    "        else:\n",
    "            word = text_vec.get_feature_names()[v-(fea1_len+fea2_len)]\n",
    "            yes_no = True if word in text.split() else False\n",
    "            if yes_no:\n",
    "                word_present += 1\n",
    "                print(i, \"Text feature [{}] present in test data point [{}]\".format(word,yes_no))\n",
    "\n",
    "    print(\"Out of the top \",no_features,\" features \", word_present, \"are present in query point\")"
   ]
  },
  {
   "cell_type": "markdown",
   "id": "a835ffc4",
   "metadata": {
    "id": "Gd7PORPUOQyy"
   },
   "source": [
    "<p style=\"font-size:24px;text-align:Center\"> <b>Stacking the three types of features </b><p>"
   ]
  },
  {
   "cell_type": "code",
   "execution_count": null,
   "id": "4ac0843a",
   "metadata": {
    "id": "W1VYFJb_OQyy"
   },
   "outputs": [],
   "source": [
    "# merging gene, variance and text features\n",
    "\n",
    "# building train, test and cross validation data sets\n",
    "# a = [[1, 2], \n",
    "#      [3, 4]]\n",
    "# b = [[4, 5], \n",
    "#      [6, 7]]\n",
    "# hstack(a, b) = [[1, 2, 4, 5],\n",
    "#                [ 3, 4, 6, 7]]\n",
    "\n",
    "train_gene_var_onehotCoding = hstack((train_gene_feature_onehotCoding,train_variation_feature_onehotCoding))\n",
    "test_gene_var_onehotCoding = hstack((test_gene_feature_onehotCoding,test_variation_feature_onehotCoding))\n",
    "cv_gene_var_onehotCoding = hstack((cv_gene_feature_onehotCoding,cv_variation_feature_onehotCoding))\n",
    "\n",
    "train_x_onehotCoding = hstack((train_gene_var_onehotCoding, train_text_feature_onehotCoding)).tocsr()\n",
    "train_y = np.array(list(train_df['Class']))\n",
    "\n",
    "test_x_onehotCoding = hstack((test_gene_var_onehotCoding, test_text_feature_onehotCoding)).tocsr()\n",
    "test_y = np.array(list(test_df['Class']))\n",
    "\n",
    "cv_x_onehotCoding = hstack((cv_gene_var_onehotCoding, cv_text_feature_onehotCoding)).tocsr()\n",
    "cv_y = np.array(list(cv_df['Class']))\n",
    "\n",
    "\n",
    "train_gene_var_responseCoding = np.hstack((train_gene_feature_responseCoding,train_variation_feature_responseCoding))\n",
    "test_gene_var_responseCoding = np.hstack((test_gene_feature_responseCoding,test_variation_feature_responseCoding))\n",
    "cv_gene_var_responseCoding = np.hstack((cv_gene_feature_responseCoding,cv_variation_feature_responseCoding))\n",
    "\n",
    "train_x_responseCoding = np.hstack((train_gene_var_responseCoding, train_text_feature_responseCoding))\n",
    "test_x_responseCoding = np.hstack((test_gene_var_responseCoding, test_text_feature_responseCoding))\n",
    "cv_x_responseCoding = np.hstack((cv_gene_var_responseCoding, cv_text_feature_responseCoding))\n"
   ]
  },
  {
   "cell_type": "code",
   "execution_count": null,
   "id": "ba67bc3d",
   "metadata": {
    "colab": {
     "base_uri": "https://localhost:8080/"
    },
    "id": "dmSks_ifOQyz",
    "outputId": "7765e027-5bd0-4992-f093-643b7e109319"
   },
   "outputs": [
    {
     "name": "stdout",
     "output_type": "stream",
     "text": [
      "One hot encoding features :\n",
      "(number of data points * number of features) in train data =  (2124, 56274)\n",
      "(number of data points * number of features) in test data =  (665, 56274)\n",
      "(number of data points * number of features) in cross validation data = (532, 56274)\n"
     ]
    }
   ],
   "source": [
    "print(\"One hot encoding features :\")\n",
    "print(\"(number of data points * number of features) in train data = \", train_x_onehotCoding.shape)\n",
    "print(\"(number of data points * number of features) in test data = \", test_x_onehotCoding.shape)\n",
    "print(\"(number of data points * number of features) in cross validation data =\", cv_x_onehotCoding.shape)"
   ]
  },
  {
   "cell_type": "code",
   "execution_count": null,
   "id": "f3496a7a",
   "metadata": {
    "colab": {
     "base_uri": "https://localhost:8080/"
    },
    "id": "gqhwbE-ZOQy1",
    "outputId": "0aeebc10-1a22-47ef-9081-54c818efb4ba"
   },
   "outputs": [
    {
     "name": "stdout",
     "output_type": "stream",
     "text": [
      " Response encoding features :\n",
      "(number of data points * number of features) in train data =  (2124, 27)\n",
      "(number of data points * number of features) in test data =  (665, 27)\n",
      "(number of data points * number of features) in cross validation data = (532, 27)\n"
     ]
    }
   ],
   "source": [
    "print(\" Response encoding features :\")\n",
    "print(\"(number of data points * number of features) in train data = \", train_x_responseCoding.shape)\n",
    "print(\"(number of data points * number of features) in test data = \", test_x_responseCoding.shape)\n",
    "print(\"(number of data points * number of features) in cross validation data =\", cv_x_responseCoding.shape)"
   ]
  },
  {
   "cell_type": "code",
   "execution_count": null,
   "id": "ef7d330a",
   "metadata": {},
   "outputs": [],
   "source": []
  }
 ],
 "metadata": {
  "kernelspec": {
   "display_name": "Python 3",
   "language": "python",
   "name": "python3"
  },
  "language_info": {
   "codemirror_mode": {
    "name": "ipython",
    "version": 3
   },
   "file_extension": ".py",
   "mimetype": "text/x-python",
   "name": "python",
   "nbconvert_exporter": "python",
   "pygments_lexer": "ipython3",
   "version": "3.7.4"
  }
 },
 "nbformat": 4,
 "nbformat_minor": 5
}
